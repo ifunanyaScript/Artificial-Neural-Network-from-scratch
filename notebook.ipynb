{
 "cells": [
  {
   "cell_type": "markdown",
   "id": "a5e975e3",
   "metadata": {},
   "source": [
    "# Custom Artificial Neural Network\n",
    "We'll be building a custom neural network from scratch using simple mathematics and python's Numpy package."
   ]
  },
  {
   "cell_type": "markdown",
   "id": "30ea308c",
   "metadata": {},
   "source": [
    "###### What is an Artificial Neural Network(ANN)?\n",
    "An ANN can simply be defined as a computer system designed to emulate the brain in its ability to learn.  \n",
    "As the name suggests, it is the coming together of several neurons to achieve a common purpose.  \n",
    "In this notebook I'll explain in a comprehensive manner how NNs work each step of the way.  \n",
    "<br>\n",
    "We'll train this Neural Network on the famous MNIST dataset. The dataset was downloaded from kaggle. If you wish to procure the data it is available [here](https://www.kaggle.com/competitions/digit-recognizer/data)"
   ]
  },
  {
   "cell_type": "code",
   "execution_count": 1,
   "id": "2aecfd6f",
   "metadata": {},
   "outputs": [],
   "source": [
    "# Import necessary packages.\n",
    "import pandas as pd\n",
    "import numpy as np\n",
    "import matplotlib.pyplot as plt\n",
    "import warnings\n",
    "\n",
    "# Ignore unnecessary warning.\n",
    "warnings.filterwarnings('ignore')"
   ]
  },
  {
   "cell_type": "code",
   "execution_count": 2,
   "id": "02bdf050",
   "metadata": {},
   "outputs": [
    {
     "data": {
      "text/html": [
       "<div>\n",
       "<style scoped>\n",
       "    .dataframe tbody tr th:only-of-type {\n",
       "        vertical-align: middle;\n",
       "    }\n",
       "\n",
       "    .dataframe tbody tr th {\n",
       "        vertical-align: top;\n",
       "    }\n",
       "\n",
       "    .dataframe thead th {\n",
       "        text-align: right;\n",
       "    }\n",
       "</style>\n",
       "<table border=\"1\" class=\"dataframe\">\n",
       "  <thead>\n",
       "    <tr style=\"text-align: right;\">\n",
       "      <th></th>\n",
       "      <th>label</th>\n",
       "      <th>pixel0</th>\n",
       "      <th>pixel1</th>\n",
       "      <th>pixel2</th>\n",
       "      <th>pixel3</th>\n",
       "      <th>pixel4</th>\n",
       "      <th>pixel5</th>\n",
       "      <th>pixel6</th>\n",
       "      <th>pixel7</th>\n",
       "      <th>pixel8</th>\n",
       "      <th>...</th>\n",
       "      <th>pixel774</th>\n",
       "      <th>pixel775</th>\n",
       "      <th>pixel776</th>\n",
       "      <th>pixel777</th>\n",
       "      <th>pixel778</th>\n",
       "      <th>pixel779</th>\n",
       "      <th>pixel780</th>\n",
       "      <th>pixel781</th>\n",
       "      <th>pixel782</th>\n",
       "      <th>pixel783</th>\n",
       "    </tr>\n",
       "  </thead>\n",
       "  <tbody>\n",
       "    <tr>\n",
       "      <th>0</th>\n",
       "      <td>1</td>\n",
       "      <td>0</td>\n",
       "      <td>0</td>\n",
       "      <td>0</td>\n",
       "      <td>0</td>\n",
       "      <td>0</td>\n",
       "      <td>0</td>\n",
       "      <td>0</td>\n",
       "      <td>0</td>\n",
       "      <td>0</td>\n",
       "      <td>...</td>\n",
       "      <td>0</td>\n",
       "      <td>0</td>\n",
       "      <td>0</td>\n",
       "      <td>0</td>\n",
       "      <td>0</td>\n",
       "      <td>0</td>\n",
       "      <td>0</td>\n",
       "      <td>0</td>\n",
       "      <td>0</td>\n",
       "      <td>0</td>\n",
       "    </tr>\n",
       "    <tr>\n",
       "      <th>1</th>\n",
       "      <td>0</td>\n",
       "      <td>0</td>\n",
       "      <td>0</td>\n",
       "      <td>0</td>\n",
       "      <td>0</td>\n",
       "      <td>0</td>\n",
       "      <td>0</td>\n",
       "      <td>0</td>\n",
       "      <td>0</td>\n",
       "      <td>0</td>\n",
       "      <td>...</td>\n",
       "      <td>0</td>\n",
       "      <td>0</td>\n",
       "      <td>0</td>\n",
       "      <td>0</td>\n",
       "      <td>0</td>\n",
       "      <td>0</td>\n",
       "      <td>0</td>\n",
       "      <td>0</td>\n",
       "      <td>0</td>\n",
       "      <td>0</td>\n",
       "    </tr>\n",
       "    <tr>\n",
       "      <th>2</th>\n",
       "      <td>1</td>\n",
       "      <td>0</td>\n",
       "      <td>0</td>\n",
       "      <td>0</td>\n",
       "      <td>0</td>\n",
       "      <td>0</td>\n",
       "      <td>0</td>\n",
       "      <td>0</td>\n",
       "      <td>0</td>\n",
       "      <td>0</td>\n",
       "      <td>...</td>\n",
       "      <td>0</td>\n",
       "      <td>0</td>\n",
       "      <td>0</td>\n",
       "      <td>0</td>\n",
       "      <td>0</td>\n",
       "      <td>0</td>\n",
       "      <td>0</td>\n",
       "      <td>0</td>\n",
       "      <td>0</td>\n",
       "      <td>0</td>\n",
       "    </tr>\n",
       "    <tr>\n",
       "      <th>3</th>\n",
       "      <td>4</td>\n",
       "      <td>0</td>\n",
       "      <td>0</td>\n",
       "      <td>0</td>\n",
       "      <td>0</td>\n",
       "      <td>0</td>\n",
       "      <td>0</td>\n",
       "      <td>0</td>\n",
       "      <td>0</td>\n",
       "      <td>0</td>\n",
       "      <td>...</td>\n",
       "      <td>0</td>\n",
       "      <td>0</td>\n",
       "      <td>0</td>\n",
       "      <td>0</td>\n",
       "      <td>0</td>\n",
       "      <td>0</td>\n",
       "      <td>0</td>\n",
       "      <td>0</td>\n",
       "      <td>0</td>\n",
       "      <td>0</td>\n",
       "    </tr>\n",
       "    <tr>\n",
       "      <th>4</th>\n",
       "      <td>0</td>\n",
       "      <td>0</td>\n",
       "      <td>0</td>\n",
       "      <td>0</td>\n",
       "      <td>0</td>\n",
       "      <td>0</td>\n",
       "      <td>0</td>\n",
       "      <td>0</td>\n",
       "      <td>0</td>\n",
       "      <td>0</td>\n",
       "      <td>...</td>\n",
       "      <td>0</td>\n",
       "      <td>0</td>\n",
       "      <td>0</td>\n",
       "      <td>0</td>\n",
       "      <td>0</td>\n",
       "      <td>0</td>\n",
       "      <td>0</td>\n",
       "      <td>0</td>\n",
       "      <td>0</td>\n",
       "      <td>0</td>\n",
       "    </tr>\n",
       "  </tbody>\n",
       "</table>\n",
       "<p>5 rows × 785 columns</p>\n",
       "</div>"
      ],
      "text/plain": [
       "   label  pixel0  pixel1  pixel2  pixel3  pixel4  pixel5  pixel6  pixel7  \\\n",
       "0      1       0       0       0       0       0       0       0       0   \n",
       "1      0       0       0       0       0       0       0       0       0   \n",
       "2      1       0       0       0       0       0       0       0       0   \n",
       "3      4       0       0       0       0       0       0       0       0   \n",
       "4      0       0       0       0       0       0       0       0       0   \n",
       "\n",
       "   pixel8  ...  pixel774  pixel775  pixel776  pixel777  pixel778  pixel779  \\\n",
       "0       0  ...         0         0         0         0         0         0   \n",
       "1       0  ...         0         0         0         0         0         0   \n",
       "2       0  ...         0         0         0         0         0         0   \n",
       "3       0  ...         0         0         0         0         0         0   \n",
       "4       0  ...         0         0         0         0         0         0   \n",
       "\n",
       "   pixel780  pixel781  pixel782  pixel783  \n",
       "0         0         0         0         0  \n",
       "1         0         0         0         0  \n",
       "2         0         0         0         0  \n",
       "3         0         0         0         0  \n",
       "4         0         0         0         0  \n",
       "\n",
       "[5 rows x 785 columns]"
      ]
     },
     "execution_count": 2,
     "metadata": {},
     "output_type": "execute_result"
    }
   ],
   "source": [
    "# Load the data into a pandas dataframe.\n",
    "data = pd.read_csv(r\"C:\\Users\\ifunanyaScript\\Everything\\NN_maths_and_numpy/train.csv\")\n",
    "data.head()"
   ]
  },
  {
   "cell_type": "markdown",
   "id": "8bd983c0",
   "metadata": {},
   "source": [
    "This is the MNIST dataset. The entire dataset is made up of 60000 samples of handwritten digits however this particular<br>partition of the dataset is only 42000 samples. These samples are 28x28 pixel grayscale images.<br>\n",
    "As we can see above, there are a total of 785 columns including the label column. This is as a result of flattening the 28x28 image to a 1D array of 784 values. Hence, each row represents a sample.  \n",
    "__NB:__ An image can be reconstructed by reshaping the sample by (28, 28)."
   ]
  },
  {
   "cell_type": "markdown",
   "id": "01670837",
   "metadata": {},
   "source": [
    "The prospective NN cannot understand a pandas dataframe, so we'd have to convert it to a numpy array.  \n",
    "Also we'd get the shape of the data, i.e rows and columns.  \n",
    "Finally, we'll shuffle the data. This is a normal practice to ensure randomness in the dataset."
   ]
  },
  {
   "cell_type": "code",
   "execution_count": 3,
   "id": "4af14427",
   "metadata": {},
   "outputs": [],
   "source": [
    "# Convert the dataframe to a numpy array.\n",
    "data = data.to_numpy()\n",
    "\n",
    "# rows, columns.\n",
    "samples, features = data.shape\n",
    "\n",
    "# Shuffle for randomness.\n",
    "np.random.shuffle(data)"
   ]
  },
  {
   "cell_type": "markdown",
   "id": "9e46e542",
   "metadata": {},
   "source": [
    "To make assessment of the data easier, we'll transpose the data, such that each row now becomes a column and each column a row.  \n",
    "\n",
    "When training any machine learning model even ANNs, the goal is always to achieved a superb accuracy on unseen data.  \n",
    "The norms is to spare a little portion of the data at hand for this purpose. Hence, I'll leave out 1000 samples for testing and use the remaining 41000 for training the NN.  \n",
    "\n",
    "Also another important thing to take note of is scaling/normalisation. Each image is made of 784 values that range from 0-255. The magnitude of this range could affect the performance of the NN, so we handle this by scaling the data such that the range is now 0-1; 0 still being black and 1 being white, then decimals between 0 and 1 are shades of gray."
   ]
  },
  {
   "cell_type": "code",
   "execution_count": 4,
   "id": "40c09384",
   "metadata": {},
   "outputs": [],
   "source": [
    "# Split the data into train and test chunks, then tanspose.\n",
    "train_data = data[1000:samples].T\n",
    "test_data = data[0:1000].T\n",
    "\n",
    "# Define features(X) and targets(Y) and scale X.\n",
    "X_train = train_data[1:features]\n",
    "X_train = X_train/255.\n",
    "Y_train = train_data[0]\n",
    "\n",
    "X_test = test_data[1:features]\n",
    "X_test = X_test/255.\n",
    "Y_test = test_data[0]"
   ]
  },
  {
   "cell_type": "markdown",
   "id": "73031771",
   "metadata": {},
   "source": [
    "Now, to the main event... \n",
    "###### How does a neural network operates internally?\n",
    "We can think of a neural network as a group, working on a specific task to achieve the best result possible.  \n",
    "This group is divided into sub groups, and each sub group is supposed to contribute in a way to achieve the best result. <br>\n",
    "Hypothetically, a group of 100 workers are given a task to build a specific type house. They decide to split themselves into 5 groups.<br> \n",
    "40 people will gather materials, <br>\n",
    "30 people will construct the structure, <br>\n",
    "10 people will mount the roof, <br>\n",
    "10 people will paint the house,<br>\n",
    "And the last 10 people will report to the supervisor.\n",
    "<br>\n",
    "\n",
    "Now, the first four sub groups work on their different tasks and get the house built, then the final group reports to the supervisor.  \n",
    "In neural network this process is called the __Forward propagation__. <br>\n",
    "\n",
    "After the report, the supervisor gives a feedback that, he is not satisfied with the house they have built, and the 10 reporters take this information back to the group. In neural network, this would be the __loss function__<br>\n",
    "\n",
    "With this information, the group takes a look at the individual contributions of each sub group, to find out which ones played a part in the poorly built house.<br> In neural network, this process is called __Backward propagation.__<br>\n",
    "\n",
    "Finally, the group finds where the mistakes are, then makes some ammendments, whether in materials gathered, or structure constructed, or roof mounted, or the colour of paint used, such that the next house they build will better satisfy the supervisor. In neural network this process is called __Gradient descent.__  \n",
    "<br>\n",
    "These four process are carried out respectively and iteratively until the supervisor is satisfied with the house. \n",
    "In neural network, the sum of all these process is called the __Training loop.__<br>\n",
    "\n",
    "This is a perfect summary of neural networks and how they work.<br>"
   ]
  },
  {
   "cell_type": "markdown",
   "id": "170c51c4",
   "metadata": {},
   "source": [
    "We have 10 digits to classify(task),<br>\n",
    "We set up a neural network of 4 layers(sub groups); <br>\n",
    "The first layer is the input layer(material gatherers), <br>\n",
    "The middle layers are the hidden layers(masons, roofers, painters, etc), <br>\n",
    "The final layer is the output layer(reporters).<br>\n",
    "\n",
    "You can go through the above note and noodle it in its entirety to fully understand the concept. <br>  \n",
    "\n",
    "If you've comprehended the previous concept, understanding the math behind neural network is rather simpler than you thought.  \n",
    "A neural network as the name suggest is a network of neurons all working together to achieve the best result.  \n",
    "Now we have a task at hand, which is digit classification. We'll build a neural network that would be able to classify these 10 handwritten digits."
   ]
  },
  {
   "cell_type": "markdown",
   "id": "628ff6c2",
   "metadata": {},
   "source": [
    "Each sample is a 28x28 pixel image, thus we 784 grayscale values. For this we'll need 784 neurons in the input layer.<br>\n",
    "Then I'll implement only one hidden layer. The number of neurons in this hidden layer is arbitrary, so I'll just choose 10. <br>\n",
    "The last/output layer will contain 10 neurons corresponding to the 10 digits. <br>\n",
    "\n",
    "Now, the most interesting part of the neural network is the training/learning process. But how does the NN learn anything?; there are trainable/learnable parameters called weights and biases.  \n",
    "These weights and biases are numbers used to perform linear operations within a neuron of the network. These linear operation are multiplication for weights and addition for biases.<br>\n",
    "\n",
    "When an image array is passed to the neural network, from the input layer, the 784 pixel values are multiplied by these weights and these bias terms are added to them. This multiplication and addition process is done throughtout the network till the final layer where the classification result is computed using a probability function(softmax). This is the __forward propagation__.<br>\n",
    "\n",
    "Remember I earlier stated that the group working on building a house will try to find out where mistakes are and correct accordingly. Well, after the classification result is computed, the result is compared with the actual label using a loss function. Then with the loss/error, we can calculate how much each weight contributed to the error. This is the __backward propagation__. <br>\n",
    "\n",
    "Now, that we have the gradient of the loss with respect to the weights, we can update the weights appropriately. This is the __gradient descent__.  \n",
    "\n",
    "Recall, this is an iteratively process. The process is carried out until the NN achieves a minimum loss and maximum accuracy. \n",
    "\n",
    "__NB:__ What makes the neural network a powerful architecture is something called activation functions. Activation functions introduce non-linearity into the NN. Without activation functions, the neural network would just be a large and complex linear regression. Hence, the results of each linear operation of weights and biases will be activated using an activation function.<br>Examples of activation functions are ReLU, TanH, LeakyReLU, Sigmoid, Softmax. The first three are usually utilised in hidden layers, while the last two are for output layers. "
   ]
  },
  {
   "cell_type": "markdown",
   "id": "3eed66f8",
   "metadata": {},
   "source": [
    "At this point, we can start building the neural network.  \n",
    "I earlier mentioned that there are a bunch of mathematical operations that go on within the network. For the purpose of handling these operations we'll define a bunch of functions.  \n",
    "<br>\n",
    "Let's start will all the functions required for the forward propagation.  \n",
    "The first important thing to address is the weights and biases. The initial weights and biases will be randomly generated, and while the network is trained they'll be subsequently optimised.  \n",
    "We can generate these weights using the `rand` function in the numpy package...."
   ]
  },
  {
   "cell_type": "code",
   "execution_count": 5,
   "id": "c5dd37d3",
   "metadata": {},
   "outputs": [],
   "source": [
    "# Randomly generates the initial weights and biases.\n",
    "def initial_parameters():\n",
    "    first_weights = np.random.rand(10, 784) - .5\n",
    "    first_bias = np.random.rand(10, 1) - .5\n",
    "    second_weights = np.random.rand(10, 10) - .5\n",
    "    second_bias = np.random.rand(10, 1) - .5\n",
    "    return first_weights, first_bias, second_weights, second_bias"
   ]
  },
  {
   "cell_type": "markdown",
   "id": "edc5f8da",
   "metadata": {},
   "source": [
    "You might wonder why I am subtracting __.5__ from the above weights and biases; this is to keep the range of the weights between -0.5 and 0.5, instead of 0-1.  \n",
    "As we go further, I'll explain how these weights multiply our inputs to give an output.  \n",
    "<br>\n",
    "The next function to define is the activation function and the derivative of this activation function.  \n",
    "I will define LeakyReLU and ReLU activation functions, but for the purpose of this project, I think I'll utilise LeakyReLU.  \n",
    "The LeakyReLU is a more robust ReLU function, in the sense that pays a little attention to values that are below zero. This way, the LeakyReLU solves the dying ReLU problem..."
   ]
  },
  {
   "cell_type": "code",
   "execution_count": 6,
   "id": "4357b301",
   "metadata": {},
   "outputs": [],
   "source": [
    "# # Leaky ReLU activation.\n",
    "# def Leaky_ReLU(step_1, alpha):\n",
    "#     for sub_array in step_1:\n",
    "#         for i, value in enumerate(sub_array):\n",
    "#             if value>0:\n",
    "#                 sub_array[i] = value\n",
    "#             else:\n",
    "#                 sub_array[i] = (alpha*value)\n",
    "#     return step_1\n",
    "\n",
    "# # Derivative of Leaky ReLU activation.\n",
    "# def LR_deriv(step_1, alpha):\n",
    "#     for sub_array in step_1:\n",
    "#         for i, value in enumerate(sub_array):\n",
    "#             if value>0:\n",
    "#                 sub_array[i] = 1\n",
    "#             else:\n",
    "#                 sub_array[i] = alpha\n",
    "#     return step_1\n",
    "\n",
    "\n",
    "# ReLU activation.\n",
    "def ReLU(Z):\n",
    "    return np.maximum(Z, 0)\n",
    "\n",
    "# Derivative of ReLU actiavtion.\n",
    "def ReLU_deriv(Z):\n",
    "    return Z > 0"
   ]
  },
  {
   "cell_type": "markdown",
   "id": "00873fbc",
   "metadata": {},
   "source": [
    "Do not trouble yourself with this LeakyReLU function. What you simply need to know is that when the value in a neuron is greater than __0__, the function returns that same value, but when the value is less than __0__, the function returns alpha. Alpha is usually __0.01__.  \n",
    "<br>\n",
    "\n",
    "The next function to define will be the activation function for the last layer.  \n",
    "Now, how will one choose the correct activation for the last layer? Well, this is dependent on the task at hand.  \n",
    "There are two types of classification problems associated with NNs namely; binary classification and multiclass classification.<br>\n",
    "In binary classification, a sigmoid function is utilised at the final layer. Whereas, in multiclass classificatiion, a softmax function is used.  \n",
    "The problem at hand is to classify 10 digits. Apparently, this is a multiclass classification. So we'll use the appropriate activation..."
   ]
  },
  {
   "cell_type": "code",
   "execution_count": 7,
   "id": "1340385a",
   "metadata": {},
   "outputs": [],
   "source": [
    "# Softmax activation for output layer.\n",
    "def Softmax(step_3):\n",
    "    prob_array = np.exp(step_3) / sum(np.exp(step_3))\n",
    "    return prob_array"
   ]
  },
  {
   "cell_type": "markdown",
   "id": "4d03bf53",
   "metadata": {},
   "source": [
    "The softmax function, takes an array of neurons, i.e values, and returns an array of probability.  \n",
    "These probabilities implies the likelihood of what the input image is. For example, the Softmax function spits out this array: <br>[0.01, 0.98, 0.0, 0.0, 0.03, 0.05, 0.1, 0.0, 0.05, 0.05],<br> As we can see the index containing the highest probability of 98% is the index 1. Thus, the network is suggesting that the input image is digit __1__.  \n",
    "<br>\n",
    "\n",
    "Okay, the next function to define, is a function that one-hot encodes the target label. One-Hot encoding is an approach of representing target labels using zeros and one. This represents labels as arrays of zeros and one. For example, have a look at this: <br>\n",
    "[0, 0, 0, 0, 0, 0, 1, 0, 0, 0]<br>\n",
    "We are classifying 10 digits 0-9. The above array means that the target label is __6__, because index 6 has a value of 1 and the rest are zeros.  \n",
    "So we can say one-hot encoding represents the labels as a binary array of zeros and one or as a True(1) or False(0) array..."
   ]
  },
  {
   "cell_type": "code",
   "execution_count": 8,
   "id": "b6492d27",
   "metadata": {},
   "outputs": [],
   "source": [
    "# One-Hot encoder for target labels.\n",
    "def One_Hot_Encoder(Y_train):\n",
    "    binary_labels = np.zeros((Y_train.size, Y_train.max() + 1))\n",
    "    binary_labels[np.arange(Y_train.size), Y_train] = 1\n",
    "    binary_labels = binary_labels.T\n",
    "    return binary_labels"
   ]
  },
  {
   "cell_type": "markdown",
   "id": "1712cff9",
   "metadata": {},
   "source": [
    "Fantastic!!!<br>\n",
    "We have defined all the functions we need for the forward propagation.  \n",
    "Now we can define the function that will carry out the actual forward propagation.."
   ]
  },
  {
   "cell_type": "code",
   "execution_count": 9,
   "id": "7dba25eb",
   "metadata": {},
   "outputs": [],
   "source": [
    "# Forward propagation.\n",
    "def forward_pass(first_weights, first_bias, second_weights, second_bias, X_train):\n",
    "    step_1 = first_weights.dot(X_train) + first_bias\n",
    "    step_2 = ReLU(step_1)\n",
    "    step_3 = second_weights.dot(step_2) + second_bias\n",
    "    step_4 = Softmax(step_3)\n",
    "    return step_1, step_2, step_3, step_4"
   ]
  },
  {
   "cell_type": "markdown",
   "id": "508adb68",
   "metadata": {},
   "source": [
    "I arranged all the processes step by step to aid easier understanding.<br>  \n",
    "In the first step, we perform a dot product operation of the first weights and the 784 input values, then add the first bias terms.  \n",
    "In the second step, we activate the result of the first step using the predefined LeakyReLU function.  \n",
    "In the third step, we perform another dot product operation of the second weights and the resulting values from second step, then add the second bias terms.  \n",
    "In the fourth and final step we activate the result of the third step, to yeild a probability array using the predefined Softmax function.<br>  \n",
    "After the forward propagation, the next issue to address is backward propagation.  \n",
    "After the loss is calculated, the backward propagation is used to get the derivative of each step with respect to the loss.  \n",
    "This is done to know how much of the loss each weight is responsible for.  \n",
    "Let's define the function for backward propagation..."
   ]
  },
  {
   "cell_type": "code",
   "execution_count": 10,
   "id": "2f7c22bf",
   "metadata": {},
   "outputs": [],
   "source": [
    "# Backward propagation.\n",
    "def backward_pass(step_1, step_2, step_3, step_4, first_weights, second_weights, X_train, Y_train):\n",
    "    binary_labels = One_Hot_Encoder(Y_train)\n",
    "    d_step_3 = (step_4 - binary_labels)\n",
    "    d_second_weights = 1/samples * d_step_3.dot(step_2.T)\n",
    "    d_second_bias = 1/samples * np.sum(d_step_3)\n",
    "    d_step_2 = second_weights.T.dot(d_step_3) * ReLU_deriv(step_1)\n",
    "    d_first_weights = 1/samples * d_step_2.dot(X_train.T)\n",
    "    d_first_bias = 1/samples * np.sum(d_step_2)\n",
    "    return d_first_weights, d_first_bias, d_second_weights, d_second_bias"
   ]
  },
  {
   "cell_type": "markdown",
   "id": "0de68091",
   "metadata": {},
   "source": [
    "This function is basically the reverse of the forward_pass.  \n",
    "The first step(`d_step_3`) is substracting our probability array from the binary labels. This gives us the loss/error of the network<br>\n",
    "The second step(`d_second_weights`), calculates how much the second weight matrice contributed to the overall loss.<br>\n",
    "The third step(`d_second_bias`), calculates how much the second bias terms contributed to the overall loss.<br>\n",
    "The fourth step(`d_step_2`), is essentially calculating the derivative of the activation function.<br>\n",
    "The fifth step(`d_first_weights`), calculates how much the first weight matrice contributed to the overall loss.<br>\n",
    "The sixth step(`d_first_bias`), calculates how much the first bias terms contributed to the overall loss.<br>  \n",
    "Now, all these derivatives can be used to adjust the weights and biases appropriately.  \n",
    "For this we'll define a function that updates the weights and biases...."
   ]
  },
  {
   "cell_type": "code",
   "execution_count": 11,
   "id": "270b6a0d",
   "metadata": {},
   "outputs": [],
   "source": [
    "# Update function for weights and biases.\n",
    "def update_parameters(first_weights, first_bias, second_weights, second_bias,\n",
    "                      d_first_weights, d_first_bias, d_second_weights, d_second_bias, \n",
    "                      learning_rate):\n",
    "    first_weights = first_weights - d_first_weights*learning_rate\n",
    "    first_bias = first_bias - d_first_bias*learning_rate\n",
    "    second_weights = second_weights - d_second_weights*learning_rate\n",
    "    second_bias = second_bias - d_second_bias*learning_rate\n",
    "    return first_weights, first_bias, second_weights, second_bias"
   ]
  },
  {
   "cell_type": "markdown",
   "id": "aba55147",
   "metadata": {},
   "source": [
    "This is a simple function. We just subtract gradients from the initial weights.  \n",
    "You might ask, why do we subtract? Well, we subtract so that the weights are moving in the direction of the gradient descent."
   ]
  },
  {
   "cell_type": "markdown",
   "id": "661d6076",
   "metadata": {},
   "source": [
    "Essentially, the above functions are all that is needed to build a neural network.  \n",
    "However, we have to assemble all of these functions together to build the actual network. But before we do that, I want to define two functions; one for getting predictions and the other for measuring accuracy."
   ]
  },
  {
   "cell_type": "code",
   "execution_count": 12,
   "id": "a16d8012",
   "metadata": {},
   "outputs": [],
   "source": [
    "# Get neural network predictions.\n",
    "def predictions(step_4):\n",
    "    return np.argmax(step_4, 0)\n",
    "\n",
    "# Measure network's accuracy.\n",
    "def accuracy(predictions, Y_train):\n",
    "    return np.sum(predictions == Y_train)/Y_train.shape[0]"
   ]
  },
  {
   "cell_type": "markdown",
   "id": "8fa7fc54",
   "metadata": {},
   "source": [
    "Try to wrap your head around the fucntions above, they are pretty straight forward and easy to grasp.<br>  \n",
    "Now, we'll define a giant function that takes all our component functions and build a beautiful neural network.  \n",
    "I'll call this function gradient descent because that the whole process of learning in a neural network, i.e<br>\n",
    "The neural network makes predictions,<br>\n",
    "Calculates the error of the predictions,<br>\n",
    "Get the gradient of the loss with respect to all the weights,<br>\n",
    "Then update the weights, such that the gradient of the loss decreases....\n",
    "__Gradient Descent.__"
   ]
  },
  {
   "cell_type": "code",
   "execution_count": 13,
   "id": "3c077bfa",
   "metadata": {},
   "outputs": [],
   "source": [
    "# Gradient for training the network.\n",
    "def gradient_descent(X_train, Y_train, learning_rate, epochs):\n",
    "    first_weights, first_bias, second_weights, second_bias = initial_parameters()\n",
    "    for epoch in range(epochs):\n",
    "        step_1, step_2, step_3, step_4 = forward_pass(first_weights, first_bias,\n",
    "                                                      second_weights, second_bias, X_train)\n",
    "        \n",
    "        d_first_weights, d_first_bias, d_second_weights, d_second_bias = backward_pass(\n",
    "                                                                        step_1, step_2, \n",
    "                                                                        step_3, step_4,\n",
    "                                                                        first_weights,\n",
    "                                                                        second_weights, \n",
    "                                                                        X_train, Y_train)\n",
    "        \n",
    "        first_weights, first_bias, second_weights, second_bias = update_parameters(\n",
    "                                                            first_weights, first_bias, \n",
    "                                                            second_weights, second_bias,\n",
    "                                                            d_first_weights, d_first_bias, \n",
    "                                                            d_second_weights, d_second_bias, \n",
    "                                                            learning_rate)\n",
    "\n",
    "        if epoch % 100 == 0:\n",
    "            print(f\"Epoch: {epoch}/{epochs}\")\n",
    "            pred = predictions(step_4)\n",
    "            print(f\"Accuracy: {(accuracy(pred, Y_train)*100):.2f}%\\n_________________\")\n",
    "    return first_weights, first_bias, second_weights, second_bias"
   ]
  },
  {
   "cell_type": "markdown",
   "id": "fdf8665d",
   "metadata": {},
   "source": [
    "Please take some time to digest the above function.  \n",
    "It's exactly what I described with the 100 workers building a house. The division of labour.<br>\n",
    "\n",
    "The first step is the forward pass were the network makes prediction, equivalent to building the house.<br>\n",
    "The second step is calculating loss and back propagation, equivalent to reporting to the supervisor and finding out where mistakes were made.<br>\n",
    "The third step is updating the weights and bias terms of the network to improve performance and reduce loss, equivalent to the group making ammendments where due to build a better house that satisfies the supervisor.  \n",
    "<br>\n",
    "__NB:__ The above process is carried out iteratively until the accuracy is superb and the loss is negligible, equivalent to the workers, rebuilding the house until the supervisor is satisfied."
   ]
  },
  {
   "cell_type": "code",
   "execution_count": 14,
   "id": "83b14436",
   "metadata": {
    "scrolled": true
   },
   "outputs": [
    {
     "name": "stdout",
     "output_type": "stream",
     "text": [
      "Epoch: 0/15000\n",
      "Accuracy: 8.50%\n",
      "_________________\n",
      "Epoch: 100/15000\n",
      "Accuracy: 67.25%\n",
      "_________________\n",
      "Epoch: 200/15000\n",
      "Accuracy: 78.48%\n",
      "_________________\n",
      "Epoch: 300/15000\n",
      "Accuracy: 82.04%\n",
      "_________________\n",
      "Epoch: 400/15000\n",
      "Accuracy: 83.90%\n",
      "_________________\n",
      "Epoch: 500/15000\n",
      "Accuracy: 85.14%\n",
      "_________________\n",
      "Epoch: 600/15000\n",
      "Accuracy: 86.06%\n",
      "_________________\n",
      "Epoch: 700/15000\n",
      "Accuracy: 86.74%\n",
      "_________________\n",
      "Epoch: 800/15000\n",
      "Accuracy: 87.27%\n",
      "_________________\n",
      "Epoch: 900/15000\n",
      "Accuracy: 87.71%\n",
      "_________________\n",
      "Epoch: 1000/15000\n",
      "Accuracy: 88.05%\n",
      "_________________\n",
      "Epoch: 1100/15000\n",
      "Accuracy: 88.35%\n",
      "_________________\n",
      "Epoch: 1200/15000\n",
      "Accuracy: 88.69%\n",
      "_________________\n",
      "Epoch: 1300/15000\n",
      "Accuracy: 88.89%\n",
      "_________________\n",
      "Epoch: 1400/15000\n",
      "Accuracy: 89.10%\n",
      "_________________\n",
      "Epoch: 1500/15000\n",
      "Accuracy: 89.26%\n",
      "_________________\n",
      "Epoch: 1600/15000\n",
      "Accuracy: 89.46%\n",
      "_________________\n",
      "Epoch: 1700/15000\n",
      "Accuracy: 89.63%\n",
      "_________________\n",
      "Epoch: 1800/15000\n",
      "Accuracy: 89.75%\n",
      "_________________\n",
      "Epoch: 1900/15000\n",
      "Accuracy: 89.89%\n",
      "_________________\n",
      "Epoch: 2000/15000\n",
      "Accuracy: 89.97%\n",
      "_________________\n",
      "Epoch: 2100/15000\n",
      "Accuracy: 90.11%\n",
      "_________________\n",
      "Epoch: 2200/15000\n",
      "Accuracy: 90.22%\n",
      "_________________\n",
      "Epoch: 2300/15000\n",
      "Accuracy: 90.31%\n",
      "_________________\n",
      "Epoch: 2400/15000\n",
      "Accuracy: 90.41%\n",
      "_________________\n",
      "Epoch: 2500/15000\n",
      "Accuracy: 90.50%\n",
      "_________________\n",
      "Epoch: 2600/15000\n",
      "Accuracy: 90.60%\n",
      "_________________\n",
      "Epoch: 2700/15000\n",
      "Accuracy: 90.68%\n",
      "_________________\n",
      "Epoch: 2800/15000\n",
      "Accuracy: 90.76%\n",
      "_________________\n",
      "Epoch: 2900/15000\n",
      "Accuracy: 90.83%\n",
      "_________________\n",
      "Epoch: 3000/15000\n",
      "Accuracy: 90.91%\n",
      "_________________\n",
      "Epoch: 3100/15000\n",
      "Accuracy: 90.98%\n",
      "_________________\n",
      "Epoch: 3200/15000\n",
      "Accuracy: 91.06%\n",
      "_________________\n",
      "Epoch: 3300/15000\n",
      "Accuracy: 91.09%\n",
      "_________________\n",
      "Epoch: 3400/15000\n",
      "Accuracy: 91.15%\n",
      "_________________\n",
      "Epoch: 3500/15000\n",
      "Accuracy: 91.22%\n",
      "_________________\n",
      "Epoch: 3600/15000\n",
      "Accuracy: 91.27%\n",
      "_________________\n",
      "Epoch: 3700/15000\n",
      "Accuracy: 91.36%\n",
      "_________________\n",
      "Epoch: 3800/15000\n",
      "Accuracy: 91.44%\n",
      "_________________\n",
      "Epoch: 3900/15000\n",
      "Accuracy: 91.50%\n",
      "_________________\n",
      "Epoch: 4000/15000\n",
      "Accuracy: 91.56%\n",
      "_________________\n",
      "Epoch: 4100/15000\n",
      "Accuracy: 91.61%\n",
      "_________________\n",
      "Epoch: 4200/15000\n",
      "Accuracy: 91.66%\n",
      "_________________\n",
      "Epoch: 4300/15000\n",
      "Accuracy: 91.72%\n",
      "_________________\n",
      "Epoch: 4400/15000\n",
      "Accuracy: 91.76%\n",
      "_________________\n",
      "Epoch: 4500/15000\n",
      "Accuracy: 91.83%\n",
      "_________________\n",
      "Epoch: 4600/15000\n",
      "Accuracy: 91.87%\n",
      "_________________\n",
      "Epoch: 4700/15000\n",
      "Accuracy: 91.94%\n",
      "_________________\n",
      "Epoch: 4800/15000\n",
      "Accuracy: 91.99%\n",
      "_________________\n",
      "Epoch: 4900/15000\n",
      "Accuracy: 92.05%\n",
      "_________________\n",
      "Epoch: 5000/15000\n",
      "Accuracy: 92.12%\n",
      "_________________\n",
      "Epoch: 5100/15000\n",
      "Accuracy: 92.18%\n",
      "_________________\n",
      "Epoch: 5200/15000\n",
      "Accuracy: 92.22%\n",
      "_________________\n",
      "Epoch: 5300/15000\n",
      "Accuracy: 92.25%\n",
      "_________________\n",
      "Epoch: 5400/15000\n",
      "Accuracy: 92.30%\n",
      "_________________\n",
      "Epoch: 5500/15000\n",
      "Accuracy: 92.35%\n",
      "_________________\n",
      "Epoch: 5600/15000\n",
      "Accuracy: 92.40%\n",
      "_________________\n",
      "Epoch: 5700/15000\n",
      "Accuracy: 92.45%\n",
      "_________________\n",
      "Epoch: 5800/15000\n",
      "Accuracy: 92.49%\n",
      "_________________\n",
      "Epoch: 5900/15000\n",
      "Accuracy: 92.51%\n",
      "_________________\n",
      "Epoch: 6000/15000\n",
      "Accuracy: 92.53%\n",
      "_________________\n",
      "Epoch: 6100/15000\n",
      "Accuracy: 92.59%\n",
      "_________________\n",
      "Epoch: 6200/15000\n",
      "Accuracy: 92.65%\n",
      "_________________\n",
      "Epoch: 6300/15000\n",
      "Accuracy: 92.70%\n",
      "_________________\n",
      "Epoch: 6400/15000\n",
      "Accuracy: 92.73%\n",
      "_________________\n",
      "Epoch: 6500/15000\n",
      "Accuracy: 92.76%\n",
      "_________________\n",
      "Epoch: 6600/15000\n",
      "Accuracy: 92.80%\n",
      "_________________\n",
      "Epoch: 6700/15000\n",
      "Accuracy: 92.83%\n",
      "_________________\n",
      "Epoch: 6800/15000\n",
      "Accuracy: 92.86%\n",
      "_________________\n",
      "Epoch: 6900/15000\n",
      "Accuracy: 92.90%\n",
      "_________________\n",
      "Epoch: 7000/15000\n",
      "Accuracy: 92.92%\n",
      "_________________\n",
      "Epoch: 7100/15000\n",
      "Accuracy: 92.94%\n",
      "_________________\n",
      "Epoch: 7200/15000\n",
      "Accuracy: 92.96%\n",
      "_________________\n",
      "Epoch: 7300/15000\n",
      "Accuracy: 92.98%\n",
      "_________________\n",
      "Epoch: 7400/15000\n",
      "Accuracy: 93.02%\n",
      "_________________\n",
      "Epoch: 7500/15000\n",
      "Accuracy: 93.05%\n",
      "_________________\n",
      "Epoch: 7600/15000\n",
      "Accuracy: 93.08%\n",
      "_________________\n",
      "Epoch: 7700/15000\n",
      "Accuracy: 93.10%\n",
      "_________________\n",
      "Epoch: 7800/15000\n",
      "Accuracy: 93.14%\n",
      "_________________\n",
      "Epoch: 7900/15000\n",
      "Accuracy: 93.15%\n",
      "_________________\n",
      "Epoch: 8000/15000\n",
      "Accuracy: 93.20%\n",
      "_________________\n",
      "Epoch: 8100/15000\n",
      "Accuracy: 93.25%\n",
      "_________________\n",
      "Epoch: 8200/15000\n",
      "Accuracy: 93.29%\n",
      "_________________\n",
      "Epoch: 8300/15000\n",
      "Accuracy: 93.34%\n",
      "_________________\n",
      "Epoch: 8400/15000\n",
      "Accuracy: 93.34%\n",
      "_________________\n",
      "Epoch: 8500/15000\n",
      "Accuracy: 93.33%\n",
      "_________________\n",
      "Epoch: 8600/15000\n",
      "Accuracy: 93.34%\n",
      "_________________\n",
      "Epoch: 8700/15000\n",
      "Accuracy: 93.35%\n",
      "_________________\n",
      "Epoch: 8800/15000\n",
      "Accuracy: 93.36%\n",
      "_________________\n",
      "Epoch: 8900/15000\n",
      "Accuracy: 93.37%\n",
      "_________________\n",
      "Epoch: 9000/15000\n",
      "Accuracy: 93.41%\n",
      "_________________\n",
      "Epoch: 9100/15000\n",
      "Accuracy: 93.41%\n",
      "_________________\n",
      "Epoch: 9200/15000\n",
      "Accuracy: 93.44%\n",
      "_________________\n",
      "Epoch: 9300/15000\n",
      "Accuracy: 93.46%\n",
      "_________________\n",
      "Epoch: 9400/15000\n",
      "Accuracy: 93.48%\n",
      "_________________\n",
      "Epoch: 9500/15000\n",
      "Accuracy: 93.49%\n",
      "_________________\n",
      "Epoch: 9600/15000\n",
      "Accuracy: 93.49%\n",
      "_________________\n",
      "Epoch: 9700/15000\n",
      "Accuracy: 93.51%\n",
      "_________________\n",
      "Epoch: 9800/15000\n",
      "Accuracy: 93.53%\n",
      "_________________\n",
      "Epoch: 9900/15000\n",
      "Accuracy: 93.55%\n",
      "_________________\n",
      "Epoch: 10000/15000\n",
      "Accuracy: 93.56%\n",
      "_________________\n",
      "Epoch: 10100/15000\n",
      "Accuracy: 93.56%\n",
      "_________________\n",
      "Epoch: 10200/15000\n",
      "Accuracy: 93.59%\n",
      "_________________\n",
      "Epoch: 10300/15000\n",
      "Accuracy: 93.61%\n",
      "_________________\n",
      "Epoch: 10400/15000\n",
      "Accuracy: 93.63%\n",
      "_________________\n",
      "Epoch: 10500/15000\n",
      "Accuracy: 93.64%\n",
      "_________________\n",
      "Epoch: 10600/15000\n",
      "Accuracy: 93.65%\n",
      "_________________\n",
      "Epoch: 10700/15000\n",
      "Accuracy: 93.66%\n",
      "_________________\n",
      "Epoch: 10800/15000\n",
      "Accuracy: 93.67%\n",
      "_________________\n",
      "Epoch: 10900/15000\n",
      "Accuracy: 93.67%\n",
      "_________________\n",
      "Epoch: 11000/15000\n",
      "Accuracy: 93.68%\n",
      "_________________\n",
      "Epoch: 11100/15000\n",
      "Accuracy: 93.70%\n",
      "_________________\n",
      "Epoch: 11200/15000\n",
      "Accuracy: 93.72%\n",
      "_________________\n",
      "Epoch: 11300/15000\n",
      "Accuracy: 93.75%\n",
      "_________________\n",
      "Epoch: 11400/15000\n",
      "Accuracy: 93.75%\n",
      "_________________\n",
      "Epoch: 11500/15000\n",
      "Accuracy: 93.76%\n",
      "_________________\n",
      "Epoch: 11600/15000\n",
      "Accuracy: 93.79%\n",
      "_________________\n",
      "Epoch: 11700/15000\n",
      "Accuracy: 93.80%\n",
      "_________________\n",
      "Epoch: 11800/15000\n",
      "Accuracy: 93.83%\n",
      "_________________\n",
      "Epoch: 11900/15000\n",
      "Accuracy: 93.85%\n",
      "_________________\n",
      "Epoch: 12000/15000\n",
      "Accuracy: 93.86%\n",
      "_________________\n",
      "Epoch: 12100/15000\n",
      "Accuracy: 93.88%\n",
      "_________________\n",
      "Epoch: 12200/15000\n",
      "Accuracy: 93.87%\n",
      "_________________\n",
      "Epoch: 12300/15000\n",
      "Accuracy: 93.87%\n",
      "_________________\n",
      "Epoch: 12400/15000\n",
      "Accuracy: 93.90%\n",
      "_________________\n",
      "Epoch: 12500/15000\n",
      "Accuracy: 93.92%\n",
      "_________________\n",
      "Epoch: 12600/15000\n",
      "Accuracy: 93.93%\n",
      "_________________\n",
      "Epoch: 12700/15000\n",
      "Accuracy: 93.93%\n",
      "_________________\n",
      "Epoch: 12800/15000\n",
      "Accuracy: 93.94%\n",
      "_________________\n",
      "Epoch: 12900/15000\n",
      "Accuracy: 93.94%\n",
      "_________________\n",
      "Epoch: 13000/15000\n",
      "Accuracy: 93.95%\n",
      "_________________\n",
      "Epoch: 13100/15000\n",
      "Accuracy: 93.96%\n",
      "_________________\n",
      "Epoch: 13200/15000\n",
      "Accuracy: 93.96%\n",
      "_________________\n",
      "Epoch: 13300/15000\n",
      "Accuracy: 93.96%\n",
      "_________________\n",
      "Epoch: 13400/15000\n",
      "Accuracy: 93.98%\n",
      "_________________\n",
      "Epoch: 13500/15000\n",
      "Accuracy: 93.99%\n",
      "_________________\n",
      "Epoch: 13600/15000\n",
      "Accuracy: 94.00%\n",
      "_________________\n",
      "Epoch: 13700/15000\n",
      "Accuracy: 94.02%\n",
      "_________________\n",
      "Epoch: 13800/15000\n",
      "Accuracy: 94.03%\n",
      "_________________\n",
      "Epoch: 13900/15000\n",
      "Accuracy: 94.05%\n",
      "_________________\n",
      "Epoch: 14000/15000\n",
      "Accuracy: 94.07%\n",
      "_________________\n",
      "Epoch: 14100/15000\n",
      "Accuracy: 94.08%\n",
      "_________________\n",
      "Epoch: 14200/15000\n",
      "Accuracy: 94.09%\n",
      "_________________\n",
      "Epoch: 14300/15000\n",
      "Accuracy: 94.10%\n",
      "_________________\n",
      "Epoch: 14400/15000\n",
      "Accuracy: 94.13%\n",
      "_________________\n",
      "Epoch: 14500/15000\n",
      "Accuracy: 94.16%\n",
      "_________________\n",
      "Epoch: 14600/15000\n",
      "Accuracy: 94.19%\n",
      "_________________\n",
      "Epoch: 14700/15000\n",
      "Accuracy: 94.20%\n",
      "_________________\n",
      "Epoch: 14800/15000\n",
      "Accuracy: 94.21%\n",
      "_________________\n",
      "Epoch: 14900/15000\n",
      "Accuracy: 94.22%\n",
      "_________________\n"
     ]
    }
   ],
   "source": [
    "# Parameter for training the NN.\n",
    "LEARNING_RATE = 0.1\n",
    "EPOCHS = 15000\n",
    "\n",
    "# Training step/loop.\n",
    "first_weights, first_bias, second_weights, second_bias = gradient_descent(X_train, Y_train, LEARNING_RATE, EPOCHS)"
   ]
  },
  {
   "cell_type": "markdown",
   "id": "aa5c632c",
   "metadata": {},
   "source": [
    "Incredible!!!<br>\n",
    "Without any deep learning framework, we have built this custom Artificial Neural Network that achieved over 93% accuracy.<br>\n",
    "Looking at how the accuracy imporved, we can deduce that there is more room for improvement.  \n",
    "At a point, the accuracy increases slowly; you might wonder why? Well, it's because the learning rate is constant.<br>  \n",
    "\n",
    "Remember, the training process is to optimise the initial weights and bias terms.  \n",
    "With this optimised weights, if we carry out the forward pass again, i.e predictions, we should get a high accuracy and a negligible loss.<br>  \n",
    "\n",
    "It's time to actually test the NN and compare its predictions to the actual label.  \n",
    "For this purpose, we'll define two functions.  \n",
    "One, for getting the prediction of the NN.  \n",
    "Two, for comparing the prediction with the actual label.  \n",
    "Also, I'll modify the predefined predefined `predictions` function, so that we can get the confidence of the NN's prediction."
   ]
  },
  {
   "cell_type": "code",
   "execution_count": 68,
   "id": "2ebcb6dd",
   "metadata": {},
   "outputs": [],
   "source": [
    "# Modified `predictions` to contain confidence.\n",
    "def predictions(step_4):\n",
    "    pred = np.argmax(step_4, 0)\n",
    "    confidence = round(100 * (np.max(step_4)), 2)\n",
    "    return pred, confidence\n",
    "\n",
    "# NN prediction.\n",
    "def test(X, first_weights, first_bias, second_weights, second_bias):\n",
    "    _, _, _, step_4 = forward_pass(first_weights, first_bias, second_weights, second_bias, X)\n",
    "    pred, confidence = predictions(step_4)\n",
    "    return pred, confidence\n",
    "\n",
    "# Validating the prediction.\n",
    "def test_validation(index, first_weights, first_bias, second_weights, second_bias):\n",
    "    image_sample = X_train[:, index, None]\n",
    "    pred, confidence = test(image_sample, first_weights, first_bias, second_weights, second_bias)\n",
    "    label = Y_train[index]\n",
    "    \n",
    "    image_sample = image_sample.reshape((28, 28)) * 255\n",
    "    plt.imshow(image_sample, interpolation=\"nearest\", cmap=\"gray\")\n",
    "    plt.title(f\"Model's prediction: {pred}\\nConfidence: {confidence}%\\nActual label: {label}\")\n",
    "    plt.axis(\"off\")\n",
    "    plt.show()"
   ]
  },
  {
   "cell_type": "markdown",
   "id": "e48421d3",
   "metadata": {},
   "source": [
    "Assimilate the above functions. They are pretty straight forward.  \n",
    "`test` simply returns the NN's prediction.  \n",
    "`test_validation` compares the NN's prediction and the actual label. And displays the predicted sample."
   ]
  },
  {
   "cell_type": "code",
   "execution_count": 61,
   "id": "f55fe27f",
   "metadata": {},
   "outputs": [
    {
     "data": {
      "image/png": "[encoded data removed]",
      "text/plain": [
       "<Figure size 432x288 with 1 Axes>"
      ]
     },
     "metadata": {
      "needs_background": "light"
     },
     "output_type": "display_data"
    },
    {
     "data": {
      "image/png": "[encoded data removed]",
      "text/plain": [
       "<Figure size 432x288 with 1 Axes>"
      ]
     },
     "metadata": {
      "needs_background": "light"
     },
     "output_type": "display_data"
    },
    {
     "data": {
      "image/png": "[encoded data removed]",
      "text/plain": [
       "<Figure size 432x288 with 1 Axes>"
      ]
     },
     "metadata": {
      "needs_background": "light"
     },
     "output_type": "display_data"
    },
    {
     "data": {
      "image/png": "[encoded data removed]",
      "text/plain": [
       "<Figure size 432x288 with 1 Axes>"
      ]
     },
     "metadata": {
      "needs_background": "light"
     },
     "output_type": "display_data"
    },
    {
     "data": {
      "image/png": "[encoded data removed]",
      "text/plain": [
       "<Figure size 432x288 with 1 Axes>"
      ]
     },
     "metadata": {
      "needs_background": "light"
     },
     "output_type": "display_data"
    },
    {
     "data": {
      "image/png": "[encoded data removed]",
      "text/plain": [
       "<Figure size 432x288 with 1 Axes>"
      ]
     },
     "metadata": {
      "needs_background": "light"
     },
     "output_type": "display_data"
    }
   ],
   "source": [
    "test_validation(5, first_weights, first_bias, second_weights, second_bias)\n",
    "test_validation(34, first_weights, first_bias, second_weights, second_bias)\n",
    "test_validation(56, first_weights, first_bias, second_weights, second_bias)\n",
    "test_validation(89, first_weights, first_bias, second_weights, second_bias)\n",
    "test_validation(10, first_weights, first_bias, second_weights, second_bias)\n",
    "test_validation(234, first_weights, first_bias, second_weights, second_bias)"
   ]
  },
  {
   "cell_type": "markdown",
   "id": "3bb5789c",
   "metadata": {},
   "source": [
    "Let's finally see the performance of this neural network on the testing chunk we set out prior."
   ]
  },
  {
   "cell_type": "code",
   "execution_count": 62,
   "id": "efecebe3",
   "metadata": {},
   "outputs": [
    {
     "name": "stdout",
     "output_type": "stream",
     "text": [
      "Accuracy on testing data: 0.0%\n"
     ]
    }
   ],
   "source": [
    "predictions, _ = test(X_test, first_weights, first_bias, second_weights, second_bias)\n",
    "print(f\"Accuracy on testing data: {accuracy(predictions, Y_test) * 100}%\")"
   ]
  },
  {
   "cell_type": "markdown",
   "id": "fcc9c687",
   "metadata": {},
   "source": [
    "Astounding!!!  \n",
    "The network achieved an amazing accuracy on the test data.  "
   ]
  },
  {
   "cell_type": "markdown",
   "id": "f6521cdb",
   "metadata": {},
   "source": [
    "# Separate testing without labels.\n",
    "As I earlier stated, this dataset was downloaded from kaggle, so there's an entire portion, set out for testing.<br>\n",
    "This particular portion unlabelled, it only has pixel values and it's left for the NN to figure out which digit each image_sample is. <br>  \n",
    "\n",
    "We will validate if the NN is doing well by plotting each sample it predicts. This time around you'll act as the supervisor.  \n",
    "Discern if the network is doing fine."
   ]
  },
  {
   "cell_type": "code",
   "execution_count": 72,
   "id": "b7b4e0ba",
   "metadata": {},
   "outputs": [
    {
     "data": {
      "text/html": [
       "<div>\n",
       "<style scoped>\n",
       "    .dataframe tbody tr th:only-of-type {\n",
       "        vertical-align: middle;\n",
       "    }\n",
       "\n",
       "    .dataframe tbody tr th {\n",
       "        vertical-align: top;\n",
       "    }\n",
       "\n",
       "    .dataframe thead th {\n",
       "        text-align: right;\n",
       "    }\n",
       "</style>\n",
       "<table border=\"1\" class=\"dataframe\">\n",
       "  <thead>\n",
       "    <tr style=\"text-align: right;\">\n",
       "      <th></th>\n",
       "      <th>pixel0</th>\n",
       "      <th>pixel1</th>\n",
       "      <th>pixel2</th>\n",
       "      <th>pixel3</th>\n",
       "      <th>pixel4</th>\n",
       "      <th>pixel5</th>\n",
       "      <th>pixel6</th>\n",
       "      <th>pixel7</th>\n",
       "      <th>pixel8</th>\n",
       "      <th>pixel9</th>\n",
       "      <th>...</th>\n",
       "      <th>pixel774</th>\n",
       "      <th>pixel775</th>\n",
       "      <th>pixel776</th>\n",
       "      <th>pixel777</th>\n",
       "      <th>pixel778</th>\n",
       "      <th>pixel779</th>\n",
       "      <th>pixel780</th>\n",
       "      <th>pixel781</th>\n",
       "      <th>pixel782</th>\n",
       "      <th>pixel783</th>\n",
       "    </tr>\n",
       "  </thead>\n",
       "  <tbody>\n",
       "    <tr>\n",
       "      <th>0</th>\n",
       "      <td>0</td>\n",
       "      <td>0</td>\n",
       "      <td>0</td>\n",
       "      <td>0</td>\n",
       "      <td>0</td>\n",
       "      <td>0</td>\n",
       "      <td>0</td>\n",
       "      <td>0</td>\n",
       "      <td>0</td>\n",
       "      <td>0</td>\n",
       "      <td>...</td>\n",
       "      <td>0</td>\n",
       "      <td>0</td>\n",
       "      <td>0</td>\n",
       "      <td>0</td>\n",
       "      <td>0</td>\n",
       "      <td>0</td>\n",
       "      <td>0</td>\n",
       "      <td>0</td>\n",
       "      <td>0</td>\n",
       "      <td>0</td>\n",
       "    </tr>\n",
       "    <tr>\n",
       "      <th>1</th>\n",
       "      <td>0</td>\n",
       "      <td>0</td>\n",
       "      <td>0</td>\n",
       "      <td>0</td>\n",
       "      <td>0</td>\n",
       "      <td>0</td>\n",
       "      <td>0</td>\n",
       "      <td>0</td>\n",
       "      <td>0</td>\n",
       "      <td>0</td>\n",
       "      <td>...</td>\n",
       "      <td>0</td>\n",
       "      <td>0</td>\n",
       "      <td>0</td>\n",
       "      <td>0</td>\n",
       "      <td>0</td>\n",
       "      <td>0</td>\n",
       "      <td>0</td>\n",
       "      <td>0</td>\n",
       "      <td>0</td>\n",
       "      <td>0</td>\n",
       "    </tr>\n",
       "    <tr>\n",
       "      <th>2</th>\n",
       "      <td>0</td>\n",
       "      <td>0</td>\n",
       "      <td>0</td>\n",
       "      <td>0</td>\n",
       "      <td>0</td>\n",
       "      <td>0</td>\n",
       "      <td>0</td>\n",
       "      <td>0</td>\n",
       "      <td>0</td>\n",
       "      <td>0</td>\n",
       "      <td>...</td>\n",
       "      <td>0</td>\n",
       "      <td>0</td>\n",
       "      <td>0</td>\n",
       "      <td>0</td>\n",
       "      <td>0</td>\n",
       "      <td>0</td>\n",
       "      <td>0</td>\n",
       "      <td>0</td>\n",
       "      <td>0</td>\n",
       "      <td>0</td>\n",
       "    </tr>\n",
       "    <tr>\n",
       "      <th>3</th>\n",
       "      <td>0</td>\n",
       "      <td>0</td>\n",
       "      <td>0</td>\n",
       "      <td>0</td>\n",
       "      <td>0</td>\n",
       "      <td>0</td>\n",
       "      <td>0</td>\n",
       "      <td>0</td>\n",
       "      <td>0</td>\n",
       "      <td>0</td>\n",
       "      <td>...</td>\n",
       "      <td>0</td>\n",
       "      <td>0</td>\n",
       "      <td>0</td>\n",
       "      <td>0</td>\n",
       "      <td>0</td>\n",
       "      <td>0</td>\n",
       "      <td>0</td>\n",
       "      <td>0</td>\n",
       "      <td>0</td>\n",
       "      <td>0</td>\n",
       "    </tr>\n",
       "    <tr>\n",
       "      <th>4</th>\n",
       "      <td>0</td>\n",
       "      <td>0</td>\n",
       "      <td>0</td>\n",
       "      <td>0</td>\n",
       "      <td>0</td>\n",
       "      <td>0</td>\n",
       "      <td>0</td>\n",
       "      <td>0</td>\n",
       "      <td>0</td>\n",
       "      <td>0</td>\n",
       "      <td>...</td>\n",
       "      <td>0</td>\n",
       "      <td>0</td>\n",
       "      <td>0</td>\n",
       "      <td>0</td>\n",
       "      <td>0</td>\n",
       "      <td>0</td>\n",
       "      <td>0</td>\n",
       "      <td>0</td>\n",
       "      <td>0</td>\n",
       "      <td>0</td>\n",
       "    </tr>\n",
       "  </tbody>\n",
       "</table>\n",
       "<p>5 rows × 784 columns</p>\n",
       "</div>"
      ],
      "text/plain": [
       "   pixel0  pixel1  pixel2  pixel3  pixel4  pixel5  pixel6  pixel7  pixel8  \\\n",
       "0       0       0       0       0       0       0       0       0       0   \n",
       "1       0       0       0       0       0       0       0       0       0   \n",
       "2       0       0       0       0       0       0       0       0       0   \n",
       "3       0       0       0       0       0       0       0       0       0   \n",
       "4       0       0       0       0       0       0       0       0       0   \n",
       "\n",
       "   pixel9  ...  pixel774  pixel775  pixel776  pixel777  pixel778  pixel779  \\\n",
       "0       0  ...         0         0         0         0         0         0   \n",
       "1       0  ...         0         0         0         0         0         0   \n",
       "2       0  ...         0         0         0         0         0         0   \n",
       "3       0  ...         0         0         0         0         0         0   \n",
       "4       0  ...         0         0         0         0         0         0   \n",
       "\n",
       "   pixel780  pixel781  pixel782  pixel783  \n",
       "0         0         0         0         0  \n",
       "1         0         0         0         0  \n",
       "2         0         0         0         0  \n",
       "3         0         0         0         0  \n",
       "4         0         0         0         0  \n",
       "\n",
       "[5 rows x 784 columns]"
      ]
     },
     "execution_count": 72,
     "metadata": {},
     "output_type": "execute_result"
    }
   ],
   "source": [
    "unlabelled_data = pd.read_csv(r\"C:\\Users\\ifunanyaScript\\Everything\\NN_maths_and_numpy\\test.csv\")\n",
    "unlabelled_data.head() "
   ]
  },
  {
   "cell_type": "markdown",
   "id": "c79951a3",
   "metadata": {},
   "source": [
    "Apparently, there are no labels.\n",
    "Remember, we have to convert the dataframe to a numpy array and also transpose it.  \n",
    "We are transposing the data for __ease of access__. So a column is a sample."
   ]
  },
  {
   "cell_type": "code",
   "execution_count": 73,
   "id": "e0fefc0f",
   "metadata": {},
   "outputs": [
    {
     "data": {
      "text/plain": [
       "(784, 28000)"
      ]
     },
     "execution_count": 73,
     "metadata": {},
     "output_type": "execute_result"
    }
   ],
   "source": [
    "unlabelled_data = unlabelled_data.to_numpy()\n",
    "\n",
    "np.random.shuffle(unlabelled_data)\n",
    "\n",
    "unlabelled_data = unlabelled_data.T\n",
    "unlabelled_data.shape"
   ]
  },
  {
   "cell_type": "code",
   "execution_count": 74,
   "id": "148ac78b",
   "metadata": {
    "scrolled": true
   },
   "outputs": [
    {
     "data": {
      "text/plain": [
       "array([  0,   0,   0,   0,   0,   0,   0,   0,   0,   0,   0,   0,   0,\n",
       "         0,   0,   0,   0,   0,   0,   0,   0,   0,   0,   0,   0,   0,\n",
       "         0,   0,   0,   0,   0,   0,   0,   0,   0,   0,   0,   0,   0,\n",
       "         0,   0,   0,   0,   0,   0,   0,   0,   0,   0,   0,   0,   0,\n",
       "         0,   0,   0,   0,   0,   0,   0,   0,   0,   0,   0,   0,   0,\n",
       "         0,   0,   0,   0,   0,   0,   0,   0,   0,   0,   0,   0,   0,\n",
       "         0,   0,   0,   0,   0,   0,   0,   0,   0,   0,   0,   0,   0,\n",
       "         0,   0,   0,   0,   0,   0,   0,   0,   0,   0,   0,   0,   0,\n",
       "         0,   0,   0,   0,   0,   0,   0,   0,   0,   0,   0,   0,   0,\n",
       "         0,   0,   0,   0,   0,   0,   0,   0,   0,   0,   0,  13,  32,\n",
       "         0,   0,   0,   0,   0,  23,   0,   0,   0,   0,   0,   0,   0,\n",
       "         0,   0,   0,   0,   0,   0,   0,   0,   0,   0,   0,   1,  65,\n",
       "       233, 159,   0,   0,  14,  80, 158, 241,   0,   0,   0,   0,   0,\n",
       "         0,   0,   0,   0,   0,   0,   0,   0,   0,   0,   0,   0,  44,\n",
       "       121, 254, 166,  51,  93, 155, 251, 254, 254, 241,   0,   0,   0,\n",
       "         0,   0,   0,   0,   0,   0,   0,   0,   0,   0,   0,   0,  14,\n",
       "       127, 226, 254, 242, 184, 249, 245, 183, 102, 208, 253, 131,   0,\n",
       "         0,   0,   0,   0,   0,   0,   0,   0,   0,   0,   0,   0,   0,\n",
       "        46, 197, 254, 254, 254, 245, 197,  95,  21,   0, 152, 254, 116,\n",
       "         0,   0,   0,   0,   0,   0,   0,   0,   0,   0,   0,   0,   0,\n",
       "        73, 187, 246, 254, 243, 182,  78,  15,   0,   0,  13, 187, 244,\n",
       "        85,   1,   0,   0,   0,   0,   0,   0,   0,   0,   0,   0,   0,\n",
       "         0,  50, 243, 254, 223, 117,  23,   0,   0,   0,   0,  27, 196,\n",
       "       254,  77,   0,   0,   0,   0,   0,   0,   0,   0,   0,   0,   0,\n",
       "         0,   0,   0,  93, 154,  61,   5,   0,   0,   0,   0,   0,  93,\n",
       "       209, 254, 254, 238,  32,   0,   0,   0,   0,   0,   0,   0,   0,\n",
       "         0,   0,   0,   0,   0,   0,   0,   0,   0,   0,   0,   0,  22,\n",
       "       152, 250, 254, 211, 145, 251,  86,   0,   0,   0,   0,   0,   0,\n",
       "         0,   0,   0,   0,   0,   0,   0,   0,   0,   0,   0,   0,   0,\n",
       "       118, 252, 248, 151,  41,   2,  17, 245,  58,   0,   0,   0,   0,\n",
       "         0,   0,   0,   0,   0,   0,   0,   0,   0,   0,   0,   0,   0,\n",
       "         0,   1, 221, 229,  69,   0,   0,   0,   0, 241,  57,   0,   0,\n",
       "         0,   0,   0,   0,   0,   0,   0,   0,   7,  18,   0,   0,   0,\n",
       "         0,   0,   0,  19, 128,  10,   0,   0,   0,   0,  43, 247,  39,\n",
       "         0,   0,   0,   0,   0,   0,   0,   0,   0,   0, 128, 211,   3,\n",
       "         0,   0,   0,   0,   0,   0,   0,   0,   0,   0,   0,   1, 167,\n",
       "       226,   0,   0,   0,   0,   0,   0,   0,   0,   0,   0,   0, 183,\n",
       "       254, 120,   0,   0,   0,   0,   0,   0,   0,   0,   0,   0,  25,\n",
       "       166, 254,  89,   0,   0,   0,   0,   0,   0,   0,   0,   0,   0,\n",
       "         0, 204, 254, 198,  14,   0,   0,   0,   0,   0,   0,   0,   0,\n",
       "        38, 227, 253, 184,   5,   0,   0,   0,   0,   0,   0,   0,   0,\n",
       "         0,   0,   0, 183, 254, 254, 173,  13,   0,   0,   0,   0,   0,\n",
       "        19, 141, 234, 254, 124,   0,   0,   0,   0,   0,   0,   0,   0,\n",
       "         0,   0,   0,   0,   0,  89, 254, 254, 254, 208,  82, 155, 101,\n",
       "       136, 179, 225, 254, 223, 109,   5,   0,   0,   0,   0,   0,   0,\n",
       "         0,   0,   0,   0,   0,   0,   0,   8, 133, 254, 254, 255, 254,\n",
       "       255, 255, 254, 255, 254, 137,  40,   0,   0,   0,   0,   0,   0,\n",
       "         0,   0,   0,   0,   0,   0,   0,   0,   0,   0,   1,  41, 168,\n",
       "       222, 222, 222, 214, 150, 121,  17,   0,   0,   0,   0,   0,   0,\n",
       "         0,   0,   0,   0,   0,   0,   0,   0,   0,   0,   0,   0,   0,\n",
       "         0,   0,   0,   0,   0,   0,   0,   0,   0,   0,   0,   0,   0,\n",
       "         0,   0,   0,   0,   0,   0,   0,   0,   0,   0,   0,   0,   0,\n",
       "         0,   0,   0,   0,   0,   0,   0,   0,   0,   0,   0,   0,   0,\n",
       "         0,   0,   0,   0,   0,   0,   0,   0,   0,   0,   0,   0,   0,\n",
       "         0,   0,   0,   0,   0,   0,   0,   0,   0,   0,   0,   0,   0,\n",
       "         0,   0,   0,   0,   0,   0,   0,   0,   0,   0,   0,   0,   0,\n",
       "         0,   0,   0,   0,   0,   0,   0,   0,   0,   0,   0,   0,   0,\n",
       "         0,   0,   0,   0,   0,   0,   0,   0,   0,   0,   0,   0,   0,\n",
       "         0,   0,   0,   0,   0,   0,   0,   0,   0,   0,   0,   0,   0,\n",
       "         0,   0,   0,   0,   0,   0,   0,   0,   0,   0,   0,   0,   0,\n",
       "         0,   0,   0,   0], dtype=int64)"
      ]
     },
     "execution_count": 74,
     "metadata": {},
     "output_type": "execute_result"
    }
   ],
   "source": [
    "# Let's see a sample.\n",
    "unlabelled_data[:,0]"
   ]
  },
  {
   "cell_type": "markdown",
   "id": "3eacadd3",
   "metadata": {},
   "source": [
    "Now, we'll define a function that displays an image sample, and gets the Model's prediction of that image sample. "
   ]
  },
  {
   "cell_type": "code",
   "execution_count": 75,
   "id": "c0169347",
   "metadata": {},
   "outputs": [],
   "source": [
    "# This function predicts the number using the trained or optimised parameters(weights and biases).\n",
    "def predict_number(index, first_weights, first_bias, second_weights, second_bias):\n",
    "    image_sample = unlabelled_data[:, index, None]/255\n",
    "    pred, confidence = test(image_sample, first_weights, first_bias, second_weights, second_bias)\n",
    "    \n",
    "    image_sample = image_sample.reshape((28, 28)) * 255\n",
    "    plt.imshow(image_sample, interpolation=\"nearest\", cmap=\"gray\")\n",
    "    plt.title(f\"Model's prediction: {pred}\\nConfidence: {confidence}%\")\n",
    "    plt.axis(\"off\")\n",
    "    plt.show()"
   ]
  },
  {
   "cell_type": "code",
   "execution_count": 76,
   "id": "f2212fad",
   "metadata": {},
   "outputs": [
    {
     "data": {
      "image/png": "[encoded data removed]",
      "text/plain": [
       "<Figure size 432x288 with 1 Axes>"
      ]
     },
     "metadata": {
      "needs_background": "light"
     },
     "output_type": "display_data"
    },
    {
     "data": {
      "image/png": "[encoded data removed]",
      "text/plain": [
       "<Figure size 432x288 with 1 Axes>"
      ]
     },
     "metadata": {
      "needs_background": "light"
     },
     "output_type": "display_data"
    },
    {
     "data": {
      "image/png": "[encoded data removed]",
      "text/plain": [
       "<Figure size 432x288 with 1 Axes>"
      ]
     },
     "metadata": {
      "needs_background": "light"
     },
     "output_type": "display_data"
    },
    {
     "data": {
      "image/png": "[encoded data removed]",
      "text/plain": [
       "<Figure size 432x288 with 1 Axes>"
      ]
     },
     "metadata": {
      "needs_background": "light"
     },
     "output_type": "display_data"
    },
    {
     "data": {
      "image/png": "[encoded data removed]",
      "text/plain": [
       "<Figure size 432x288 with 1 Axes>"
      ]
     },
     "metadata": {
      "needs_background": "light"
     },
     "output_type": "display_data"
    },
    {
     "data": {
      "image/png": "[encoded data removed]",
      "text/plain": [
       "<Figure size 432x288 with 1 Axes>"
      ]
     },
     "metadata": {
      "needs_background": "light"
     },
     "output_type": "display_data"
    },
    {
     "data": {
      "image/png": "[encoded data removed]",
      "text/plain": [
       "<Figure size 432x288 with 1 Axes>"
      ]
     },
     "metadata": {
      "needs_background": "light"
     },
     "output_type": "display_data"
    },
    {
     "data": {
      "image/png": "[encoded data removed]",
      "text/plain": [
       "<Figure size 432x288 with 1 Axes>"
      ]
     },
     "metadata": {
      "needs_background": "light"
     },
     "output_type": "display_data"
    },
    {
     "data": {
      "image/png": "[encoded data removed]",
      "text/plain": [
       "<Figure size 432x288 with 1 Axes>"
      ]
     },
     "metadata": {
      "needs_background": "light"
     },
     "output_type": "display_data"
    },
    {
     "data": {
      "image/png": "[encoded data removed]",
      "text/plain": [
       "<Figure size 432x288 with 1 Axes>"
      ]
     },
     "metadata": {
      "needs_background": "light"
     },
     "output_type": "display_data"
    },
    {
     "data": {
      "image/png": "[encoded data removed]",
      "text/plain": [
       "<Figure size 432x288 with 1 Axes>"
      ]
     },
     "metadata": {
      "needs_background": "light"
     },
     "output_type": "display_data"
    },
    {
     "data": {
      "image/png": "[encoded data removed]",
      "text/plain": [
       "<Figure size 432x288 with 1 Axes>"
      ]
     },
     "metadata": {
      "needs_background": "light"
     },
     "output_type": "display_data"
    }
   ],
   "source": [
    "predict_number(23, first_weights, first_bias, second_weights, second_bias)\n",
    "predict_number(300, first_weights, first_bias, second_weights, second_bias)\n",
    "predict_number(15001, first_weights, first_bias, second_weights, second_bias)\n",
    "predict_number(789, first_weights, first_bias, second_weights, second_bias)\n",
    "predict_number(23456, first_weights, first_bias, second_weights, second_bias)\n",
    "predict_number(3400, first_weights, first_bias, second_weights, second_bias)\n",
    "predict_number(4309, first_weights, first_bias, second_weights, second_bias)\n",
    "predict_number(23787, first_weights, first_bias, second_weights, second_bias)\n",
    "predict_number(27999, first_weights, first_bias, second_weights, second_bias)\n",
    "predict_number(19040, first_weights, first_bias, second_weights, second_bias)\n",
    "predict_number(7802, first_weights, first_bias, second_weights, second_bias)\n",
    "predict_number(9019, first_weights, first_bias, second_weights, second_bias)"
   ]
  },
  {
   "cell_type": "markdown",
   "id": "c9ca7ac1",
   "metadata": {},
   "source": [
    "Voilà!!!<br>\n",
    "This is amazing. The Neural network classified every image sample.<br>  \n",
    "If you have made it this far, I genuinely hope that this notebook has broadened your understanding of the inner workings of an Artificial Neural Networks. It's all a bunch of math and even more math, but now you know \n",
    "😏😃."
   ]
  },
  {
   "cell_type": "code",
   "execution_count": 77,
   "id": "91845ab3",
   "metadata": {},
   "outputs": [],
   "source": [
    "# ifunanyaScript"
   ]
  }
 ],
 "metadata": {
  "kernelspec": {
   "display_name": "Python 3 (ipykernel)",
   "language": "python",
   "name": "python3"
  },
  "language_info": {
   "codemirror_mode": {
    "name": "ipython",
    "version": 3
   },
   "file_extension": ".py",
   "mimetype": "text/x-python",
   "name": "python",
   "nbconvert_exporter": "python",
   "pygments_lexer": "ipython3",
   "version": "3.9.12"
  }
 },
 "nbformat": 4,
 "nbformat_minor": 5
}
