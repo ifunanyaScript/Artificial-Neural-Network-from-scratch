{
 "cells": [
  {
   "cell_type": "markdown",
   "id": "b5342f1e",
   "metadata": {},
   "source": [
    "# Neural Network with simple calculus and Numpy package"
   ]
  },
  {
   "cell_type": "code",
   "execution_count": 1,
   "id": "2aecfd6f",
   "metadata": {},
   "outputs": [],
   "source": [
    "# import the packages; pandas for data loading, numpy for matrix operations and matplotlib for graph plotting.\n",
    "import pandas as pd\n",
    "import numpy as np\n",
    "import matplotlib.pyplot as plt"
   ]
  },
  {
   "cell_type": "code",
   "execution_count": 2,
   "id": "02bdf050",
   "metadata": {},
   "outputs": [
    {
     "data": {
      "text/html": [
       "<div>\n",
       "<style scoped>\n",
       "    .dataframe tbody tr th:only-of-type {\n",
       "        vertical-align: middle;\n",
       "    }\n",
       "\n",
       "    .dataframe tbody tr th {\n",
       "        vertical-align: top;\n",
       "    }\n",
       "\n",
       "    .dataframe thead th {\n",
       "        text-align: right;\n",
       "    }\n",
       "</style>\n",
       "<table border=\"1\" class=\"dataframe\">\n",
       "  <thead>\n",
       "    <tr style=\"text-align: right;\">\n",
       "      <th></th>\n",
       "      <th>label</th>\n",
       "      <th>pixel0</th>\n",
       "      <th>pixel1</th>\n",
       "      <th>pixel2</th>\n",
       "      <th>pixel3</th>\n",
       "      <th>pixel4</th>\n",
       "      <th>pixel5</th>\n",
       "      <th>pixel6</th>\n",
       "      <th>pixel7</th>\n",
       "      <th>pixel8</th>\n",
       "      <th>...</th>\n",
       "      <th>pixel774</th>\n",
       "      <th>pixel775</th>\n",
       "      <th>pixel776</th>\n",
       "      <th>pixel777</th>\n",
       "      <th>pixel778</th>\n",
       "      <th>pixel779</th>\n",
       "      <th>pixel780</th>\n",
       "      <th>pixel781</th>\n",
       "      <th>pixel782</th>\n",
       "      <th>pixel783</th>\n",
       "    </tr>\n",
       "  </thead>\n",
       "  <tbody>\n",
       "    <tr>\n",
       "      <th>0</th>\n",
       "      <td>1</td>\n",
       "      <td>0</td>\n",
       "      <td>0</td>\n",
       "      <td>0</td>\n",
       "      <td>0</td>\n",
       "      <td>0</td>\n",
       "      <td>0</td>\n",
       "      <td>0</td>\n",
       "      <td>0</td>\n",
       "      <td>0</td>\n",
       "      <td>...</td>\n",
       "      <td>0</td>\n",
       "      <td>0</td>\n",
       "      <td>0</td>\n",
       "      <td>0</td>\n",
       "      <td>0</td>\n",
       "      <td>0</td>\n",
       "      <td>0</td>\n",
       "      <td>0</td>\n",
       "      <td>0</td>\n",
       "      <td>0</td>\n",
       "    </tr>\n",
       "    <tr>\n",
       "      <th>1</th>\n",
       "      <td>0</td>\n",
       "      <td>0</td>\n",
       "      <td>0</td>\n",
       "      <td>0</td>\n",
       "      <td>0</td>\n",
       "      <td>0</td>\n",
       "      <td>0</td>\n",
       "      <td>0</td>\n",
       "      <td>0</td>\n",
       "      <td>0</td>\n",
       "      <td>...</td>\n",
       "      <td>0</td>\n",
       "      <td>0</td>\n",
       "      <td>0</td>\n",
       "      <td>0</td>\n",
       "      <td>0</td>\n",
       "      <td>0</td>\n",
       "      <td>0</td>\n",
       "      <td>0</td>\n",
       "      <td>0</td>\n",
       "      <td>0</td>\n",
       "    </tr>\n",
       "    <tr>\n",
       "      <th>2</th>\n",
       "      <td>1</td>\n",
       "      <td>0</td>\n",
       "      <td>0</td>\n",
       "      <td>0</td>\n",
       "      <td>0</td>\n",
       "      <td>0</td>\n",
       "      <td>0</td>\n",
       "      <td>0</td>\n",
       "      <td>0</td>\n",
       "      <td>0</td>\n",
       "      <td>...</td>\n",
       "      <td>0</td>\n",
       "      <td>0</td>\n",
       "      <td>0</td>\n",
       "      <td>0</td>\n",
       "      <td>0</td>\n",
       "      <td>0</td>\n",
       "      <td>0</td>\n",
       "      <td>0</td>\n",
       "      <td>0</td>\n",
       "      <td>0</td>\n",
       "    </tr>\n",
       "    <tr>\n",
       "      <th>3</th>\n",
       "      <td>4</td>\n",
       "      <td>0</td>\n",
       "      <td>0</td>\n",
       "      <td>0</td>\n",
       "      <td>0</td>\n",
       "      <td>0</td>\n",
       "      <td>0</td>\n",
       "      <td>0</td>\n",
       "      <td>0</td>\n",
       "      <td>0</td>\n",
       "      <td>...</td>\n",
       "      <td>0</td>\n",
       "      <td>0</td>\n",
       "      <td>0</td>\n",
       "      <td>0</td>\n",
       "      <td>0</td>\n",
       "      <td>0</td>\n",
       "      <td>0</td>\n",
       "      <td>0</td>\n",
       "      <td>0</td>\n",
       "      <td>0</td>\n",
       "    </tr>\n",
       "    <tr>\n",
       "      <th>4</th>\n",
       "      <td>0</td>\n",
       "      <td>0</td>\n",
       "      <td>0</td>\n",
       "      <td>0</td>\n",
       "      <td>0</td>\n",
       "      <td>0</td>\n",
       "      <td>0</td>\n",
       "      <td>0</td>\n",
       "      <td>0</td>\n",
       "      <td>0</td>\n",
       "      <td>...</td>\n",
       "      <td>0</td>\n",
       "      <td>0</td>\n",
       "      <td>0</td>\n",
       "      <td>0</td>\n",
       "      <td>0</td>\n",
       "      <td>0</td>\n",
       "      <td>0</td>\n",
       "      <td>0</td>\n",
       "      <td>0</td>\n",
       "      <td>0</td>\n",
       "    </tr>\n",
       "  </tbody>\n",
       "</table>\n",
       "<p>5 rows × 785 columns</p>\n",
       "</div>"
      ],
      "text/plain": [
       "   label  pixel0  pixel1  pixel2  pixel3  pixel4  pixel5  pixel6  pixel7  \\\n",
       "0      1       0       0       0       0       0       0       0       0   \n",
       "1      0       0       0       0       0       0       0       0       0   \n",
       "2      1       0       0       0       0       0       0       0       0   \n",
       "3      4       0       0       0       0       0       0       0       0   \n",
       "4      0       0       0       0       0       0       0       0       0   \n",
       "\n",
       "   pixel8  ...  pixel774  pixel775  pixel776  pixel777  pixel778  pixel779  \\\n",
       "0       0  ...         0         0         0         0         0         0   \n",
       "1       0  ...         0         0         0         0         0         0   \n",
       "2       0  ...         0         0         0         0         0         0   \n",
       "3       0  ...         0         0         0         0         0         0   \n",
       "4       0  ...         0         0         0         0         0         0   \n",
       "\n",
       "   pixel780  pixel781  pixel782  pixel783  \n",
       "0         0         0         0         0  \n",
       "1         0         0         0         0  \n",
       "2         0         0         0         0  \n",
       "3         0         0         0         0  \n",
       "4         0         0         0         0  \n",
       "\n",
       "[5 rows x 785 columns]"
      ]
     },
     "execution_count": 2,
     "metadata": {},
     "output_type": "execute_result"
    }
   ],
   "source": [
    "# We load the data and view a few samples.\n",
    "data = pd.read_csv(r\"C:\\Users\\ifunanyaScript\\Everything\\NN_maths_and_numpy/train.csv\")\n",
    "data.head()"
   ]
  },
  {
   "cell_type": "code",
   "execution_count": 3,
   "id": "4af14427",
   "metadata": {},
   "outputs": [],
   "source": [
    "data = data.to_numpy() # We convert the dataframe into a numpy array.\n",
    "samples, features = data.shape # We get the dimensions of said dataframe.\n",
    "np.random.shuffle(data) # We shuffle the data set to achieve some randomness."
   ]
  },
  {
   "cell_type": "markdown",
   "id": "227b45be",
   "metadata": {},
   "source": [
    "It's important to notice that we have to transpose the data(array)<br>\n",
    "such that each row now becomes a column, so each sample of our data<br>\n",
    "is in a separate column"
   ]
  },
  {
   "cell_type": "code",
   "execution_count": 4,
   "id": "7833e989",
   "metadata": {},
   "outputs": [],
   "source": [
    "# We split the data into training and testing chunks and then, transpose the data.\n",
    "train_data = data[1000:samples].T\n",
    "test_data = data[0:1000].T\n",
    "\n",
    "# We define the features and target labels, and then normalise the features.\n",
    "X_train = train_data[1:features]\n",
    "X_train = X_train/255.\n",
    "Y_train = train_data[0]\n",
    "\n",
    "X_test = test_data[1:features]\n",
    "X_test = X_test/255.\n",
    "Y_test = test_data[0]"
   ]
  },
  {
   "cell_type": "markdown",
   "id": "6def9baf",
   "metadata": {},
   "source": [
    "We'll define a bunch of functions that will be used to work out this neural network.<br>\n",
    "There'll be a function to initialize the weights and biases, a function to perform the forward<br>\n",
    "propagation, a function to perform the backward propagation, a function for activation(I picked Leaky_ReLU),<br>\n",
    "a function to one hot encode the target labels, a function for softmax activation, a function to perform the<br>\n",
    "gradient descent, and some other extra functions to seal it up😃."
   ]
  },
  {
   "cell_type": "code",
   "execution_count": null,
   "id": "1637589b",
   "metadata": {},
   "outputs": [],
   "source": [
    "# This function generates random weights and biases that the network begins with.\n",
    "def initial_parameters():\n",
    "    first_weights = np.random.rand(10, 784) - .5\n",
    "    first_bias = np.random.rand(10, 1) - .5\n",
    "    second_weights = np.random.rand(10, 10) - .5\n",
    "    second_bias = np.random.rand(10, 1) - .5\n",
    "    return first_weights, first_bias, second_weights, second_bias"
   ]
  },
  {
   "cell_type": "code",
   "execution_count": null,
   "id": "a1ad62fc",
   "metadata": {},
   "outputs": [],
   "source": [
    "# The leaky relu; Leaky Rectified Linear Unit, is like the relu, but it solves the case of\n",
    "# disappearing gradients, as it gives some thought to neurons with negative outputs.\n",
    "def Leaky_ReLU(step_1, alpha):\n",
    "    for sub_array in step_1:\n",
    "        for i, value in enumerate(sub_array):\n",
    "            if value>0:\n",
    "                sub_array[i] = value\n",
    "            else:\n",
    "                sub_array[i] = (alpha*value)\n",
    "    return step_1\n",
    "\n",
    "# This function calculates the derivative of the above Leaky_ReLU function.\n",
    "def LR_deriv(step_1, alpha):\n",
    "    for sub_array in step_1:\n",
    "        for i, value in enumerate(sub_array):\n",
    "            if value>0:\n",
    "                sub_array[i] = 1\n",
    "            else:\n",
    "                sub_array[i] = alpha\n",
    "    return step_1"
   ]
  },
  {
   "cell_type": "code",
   "execution_count": null,
   "id": "371ea61f",
   "metadata": {},
   "outputs": [],
   "source": [
    "\"\"\"\n",
    "def ReLU(Z):\n",
    "    return np.maximum(Z, 0)\n",
    "\n",
    "def ReLU_deriv(Z):\n",
    "    return Z > 0\n",
    "\"\"\""
   ]
  },
  {
   "cell_type": "code",
   "execution_count": null,
   "id": "03e802b8",
   "metadata": {},
   "outputs": [],
   "source": [
    "# This function is used in the output/last layer of the network to generate a probability\n",
    "# array of the target labels.\n",
    "def Softmax(step_3):\n",
    "    prob_array = np.exp(step_3) / sum(np.exp(step_3))\n",
    "    return prob_array"
   ]
  },
  {
   "cell_type": "code",
   "execution_count": null,
   "id": "5f3a0b68",
   "metadata": {},
   "outputs": [],
   "source": [
    "# This function encodes our labels into a binary form of ones and zeros.\n",
    "def One_Hot_Encoder(Y_train):\n",
    "    binary_labels = np.zeros((Y_train.size, Y_train.max() + 1))\n",
    "    binary_labels[np.arange(Y_train.size), Y_train] = 1\n",
    "    binary_labels = binary_labels.T\n",
    "    return binary_labels"
   ]
  },
  {
   "cell_type": "code",
   "execution_count": null,
   "id": "fab417ff",
   "metadata": {},
   "outputs": [],
   "source": [
    "# This function performs series of matrix operations called\n",
    "# forward propagation in the neural network.\n",
    "def forward_pass(first_weights, first_bias, second_weights, second_bias, X_train):\n",
    "    step_1 = first_weights.dot(X_train) + first_bias\n",
    "    step_2 = Leaky_ReLU(step_1, 0.01)\n",
    "    step_3 = second_weights.dot(step_2) + second_bias\n",
    "    step_4 = Softmax(step_3)\n",
    "    return step_1, step_2, step_3, step_4"
   ]
  },
  {
   "cell_type": "code",
   "execution_count": null,
   "id": "88947aeb",
   "metadata": {},
   "outputs": [],
   "source": [
    "# This function carries the backward propagation which involves, calculating the \n",
    "#derivatives of all the steps that yield to the final prediction of the neural network.\n",
    "def backward_pass(step_1, step_2, step_3, step_4, first_weights, second_weights,\n",
    "                  X_train, Y_train):\n",
    "    binary_labels = One_Hot_Encoder(Y_train)\n",
    "    d_step_3 = (step_4 - binary_labels)\n",
    "    d_second_weights = 1/samples * d_step_3.dot(step_2.T)\n",
    "    d_second_bias = 1/samples * np.sum(d_step_3)\n",
    "    d_step_2 = second_weights.T.dot(d_step_3) * LR_deriv(step_1, 0.01)\n",
    "    d_first_weights = 1/samples * d_step_2.dot(X_train.T)\n",
    "    d_first_bias = 1/samples * np.sum(d_step_2)\n",
    "    return d_first_weights, d_first_bias, d_second_weights, d_second_bias"
   ]
  },
  {
   "cell_type": "code",
   "execution_count": null,
   "id": "c0cf31ab",
   "metadata": {},
   "outputs": [],
   "source": [
    "# This function is used to update the weights and biases.\n",
    "def update_parameters(first_weights, first_bias, second_weights, second_bias,\n",
    "                      d_first_weights, d_first_bias, d_second_weights, d_second_bias, \n",
    "                      learning_rate):\n",
    "    first_weights = first_weights - d_first_weights*learning_rate\n",
    "    first_bias = first_bias - d_first_bias*learning_rate\n",
    "    second_weights = second_weights - d_second_weights*learning_rate\n",
    "    second_bias = second_bias - d_second_bias*learning_rate\n",
    "    return first_weights, first_bias, second_weights, second_bias"
   ]
  },
  {
   "cell_type": "code",
   "execution_count": 5,
   "id": "a16d8012",
   "metadata": {},
   "outputs": [],
   "source": [
    "# The below functions are used to get final predictions and calculate accuracy.\n",
    "def predictions(step_4):\n",
    "    return np.argmax(step_4, 0)\n",
    "\n",
    "def accuracy(predictions, Y_train):\n",
    "    # print(predictions, Y_train)\n",
    "    return np.sum(predictions == Y_train)/Y_train.shape[0]"
   ]
  },
  {
   "cell_type": "code",
   "execution_count": 8,
   "id": "3c077bfa",
   "metadata": {},
   "outputs": [],
   "source": [
    "# This function is used to perform gradient descent, i.e, it utilizes all the pre-defined\n",
    "# functions to train the neural network, and get the optimized weights and biases.\n",
    "def gradient_descent(X_train, Y_train, learning_rate, epochs):\n",
    "    first_weights, first_bias, second_weights, second_bias = initial_parameters()\n",
    "    for epoch in range(epochs):\n",
    "        step_1, step_2, step_3, step_4 = forward_pass(first_weights, first_bias,\n",
    "                                                      second_weights, second_bias, X_train)\n",
    "        \n",
    "        d_first_weights, d_first_bias, d_second_weights, d_second_bias = backward_pass(\n",
    "                                                                        step_1, step_2, \n",
    "                                                                        step_3, step_4,\n",
    "                                                                        first_weights,\n",
    "                                                                        second_weights, \n",
    "                                                                        X_train, Y_train)\n",
    "        \n",
    "        first_weights, first_bias, second_weights, second_bias = update_parameters(\n",
    "                                                            first_weights, first_bias, \n",
    "                                                            second_weights, second_bias,\n",
    "                                                            d_first_weights, d_first_bias, \n",
    "                                                            d_second_weights, d_second_bias, \n",
    "                                                            learning_rate)\n",
    "\n",
    "        if epoch % 200 == 0:\n",
    "            print(f\"Epochs: {epoch}/{epochs}\")\n",
    "            pred = predictions(step_4)\n",
    "            print(f\"{(accuracy(pred, Y_train)*100):.2f}%\\n______________\")\n",
    "    return first_weights, first_bias, second_weights, second_bias"
   ]
  },
  {
   "cell_type": "code",
   "execution_count": 9,
   "id": "83b14436",
   "metadata": {},
   "outputs": [
    {
     "name": "stdout",
     "output_type": "stream",
     "text": [
      "Epochs: 0/10000\n",
      "12.39%\n",
      "______________\n",
      "Epochs: 200/10000\n",
      "20.21%\n",
      "______________\n",
      "Epochs: 400/10000\n",
      "31.46%\n",
      "______________\n",
      "Epochs: 600/10000\n",
      "40.96%\n",
      "______________\n",
      "Epochs: 800/10000\n",
      "48.43%\n",
      "______________\n",
      "Epochs: 1000/10000\n",
      "55.94%\n",
      "______________\n",
      "Epochs: 1200/10000\n",
      "61.91%\n",
      "______________\n",
      "Epochs: 1400/10000\n",
      "66.13%\n",
      "______________\n",
      "Epochs: 1600/10000\n",
      "69.39%\n",
      "______________\n",
      "Epochs: 1800/10000\n",
      "71.96%\n",
      "______________\n",
      "Epochs: 2000/10000\n",
      "73.95%\n",
      "______________\n",
      "Epochs: 2200/10000\n",
      "75.61%\n",
      "______________\n",
      "Epochs: 2400/10000\n",
      "77.12%\n",
      "______________\n",
      "Epochs: 2600/10000\n",
      "78.36%\n",
      "______________\n",
      "Epochs: 2800/10000\n",
      "79.33%\n",
      "______________\n",
      "Epochs: 3000/10000\n",
      "80.23%\n",
      "______________\n",
      "Epochs: 3200/10000\n",
      "81.04%\n",
      "______________\n",
      "Epochs: 3400/10000\n",
      "81.69%\n",
      "______________\n",
      "Epochs: 3600/10000\n",
      "82.23%\n",
      "______________\n",
      "Epochs: 3800/10000\n",
      "82.60%\n",
      "______________\n",
      "Epochs: 4000/10000\n",
      "83.01%\n",
      "______________\n",
      "Epochs: 4200/10000\n",
      "83.43%\n",
      "______________\n",
      "Epochs: 4400/10000\n",
      "83.81%\n",
      "______________\n",
      "Epochs: 4600/10000\n",
      "84.11%\n",
      "______________\n",
      "Epochs: 4800/10000\n",
      "84.42%\n",
      "______________\n",
      "Epochs: 5000/10000\n",
      "84.66%\n",
      "______________\n",
      "Epochs: 5200/10000\n",
      "84.93%\n",
      "______________\n",
      "Epochs: 5400/10000\n",
      "85.14%\n",
      "______________\n",
      "Epochs: 5600/10000\n",
      "85.38%\n",
      "______________\n",
      "Epochs: 5800/10000\n",
      "85.59%\n",
      "______________\n",
      "Epochs: 6000/10000\n",
      "85.77%\n",
      "______________\n",
      "Epochs: 6200/10000\n",
      "85.94%\n",
      "______________\n",
      "Epochs: 6400/10000\n",
      "86.09%\n",
      "______________\n",
      "Epochs: 6600/10000\n",
      "86.23%\n",
      "______________\n",
      "Epochs: 6800/10000\n",
      "86.38%\n",
      "______________\n",
      "Epochs: 7000/10000\n",
      "86.50%\n",
      "______________\n",
      "Epochs: 7200/10000\n",
      "86.62%\n",
      "______________\n",
      "Epochs: 7400/10000\n",
      "86.70%\n",
      "______________\n",
      "Epochs: 7600/10000\n",
      "86.81%\n",
      "______________\n",
      "Epochs: 7800/10000\n",
      "86.93%\n",
      "______________\n",
      "Epochs: 8000/10000\n",
      "87.05%\n",
      "______________\n",
      "Epochs: 8200/10000\n",
      "87.14%\n",
      "______________\n",
      "Epochs: 8400/10000\n",
      "87.23%\n",
      "______________\n",
      "Epochs: 8600/10000\n",
      "87.32%\n",
      "______________\n",
      "Epochs: 8800/10000\n",
      "87.42%\n",
      "______________\n",
      "Epochs: 9000/10000\n",
      "87.49%\n",
      "______________\n",
      "Epochs: 9200/10000\n",
      "87.62%\n",
      "______________\n",
      "Epochs: 9400/10000\n",
      "87.69%\n",
      "______________\n",
      "Epochs: 9600/10000\n",
      "87.75%\n",
      "______________\n",
      "Epochs: 9800/10000\n",
      "87.83%\n",
      "______________\n"
     ]
    }
   ],
   "source": [
    "# We define learning rate and epochs/number of iterations.\n",
    "learning_rate = 0.01\n",
    "epochs = 10000\n",
    "\n",
    "# This will perform a training loop and return the optimized weights and biases.\n",
    "first_weights, first_bias, second_weights, second_bias = gradient_descent(X_train, Y_train, learning_rate, epochs)"
   ]
  },
  {
   "cell_type": "markdown",
   "id": "143809a9",
   "metadata": {},
   "source": [
    "Wow! Without any deep learning framework, we managed to train a neural network with over 88% accuracy.<br>\n",
    "<br>\n",
    "After training the neural network, we can now used the optimized weights and biases<br>\n",
    "to actually predict samples and see how well the trained neural network performs."
   ]
  },
  {
   "cell_type": "code",
   "execution_count": 50,
   "id": "2ebcb6dd",
   "metadata": {},
   "outputs": [],
   "source": [
    "# I used this function to get the model prediction, returned in the \"pred\" variable.\n",
    "def test(X, first_weights, first_bias, second_weights, second_bias):\n",
    "    _, _, _, step_4 = forward_pass(first_weights, first_bias, second_weights, second_bias, X)\n",
    "    pred = predictions(step_4)\n",
    "    return pred\n",
    "\n",
    "# Then I used this function to compare the NN prediction and the actual label.\n",
    "def test_validation(index, first_weights, first_bias, second_weights, second_bias):\n",
    "    the_sample = X_train[:, index, None]\n",
    "    pred = test(X_train[:, index, None], first_weights, first_bias, second_weights, second_bias)\n",
    "    label = Y_train[index]\n",
    "    print(f\"Model's prediction: {pred}\\n Actual label: {label}\")\n",
    "    \n",
    "    the_sample = the_sample.reshape((28, 28)) * 255\n",
    "    plt.gray()\n",
    "    plt.imshow(the_sample, interpolation=\"nearest\")\n",
    "    plt.show()"
   ]
  },
  {
   "cell_type": "code",
   "execution_count": 51,
   "id": "f55fe27f",
   "metadata": {},
   "outputs": [
    {
     "name": "stdout",
     "output_type": "stream",
     "text": [
      "Model's prediction: [7]\n",
      " Actual label: 7\n"
     ]
    },
    {
     "data": {
      "image/png": "[encoded data removed]",
      "text/plain": [
       "<Figure size 432x288 with 1 Axes>"
      ]
     },
     "metadata": {
      "needs_background": "light"
     },
     "output_type": "display_data"
    },
    {
     "name": "stdout",
     "output_type": "stream",
     "text": [
      "Model's prediction: [0]\n",
      " Actual label: 0\n"
     ]
    },
    {
     "data": {
      "image/png": "[encoded data removed]",
      "text/plain": [
       "<Figure size 432x288 with 1 Axes>"
      ]
     },
     "metadata": {
      "needs_background": "light"
     },
     "output_type": "display_data"
    },
    {
     "name": "stdout",
     "output_type": "stream",
     "text": [
      "Model's prediction: [3]\n",
      " Actual label: 3\n"
     ]
    },
    {
     "data": {
      "image/png": "[encoded data removed]",
      "text/plain": [
       "<Figure size 432x288 with 1 Axes>"
      ]
     },
     "metadata": {
      "needs_background": "light"
     },
     "output_type": "display_data"
    },
    {
     "name": "stdout",
     "output_type": "stream",
     "text": [
      "Model's prediction: [5]\n",
      " Actual label: 6\n"
     ]
    },
    {
     "data": {
      "image/png": "[encoded data removed]",
      "text/plain": [
       "<Figure size 432x288 with 1 Axes>"
      ]
     },
     "metadata": {
      "needs_background": "light"
     },
     "output_type": "display_data"
    },
    {
     "name": "stdout",
     "output_type": "stream",
     "text": [
      "Model's prediction: [7]\n",
      " Actual label: 7\n"
     ]
    },
    {
     "data": {
      "image/png": "[encoded data removed]",
      "text/plain": [
       "<Figure size 432x288 with 1 Axes>"
      ]
     },
     "metadata": {
      "needs_background": "light"
     },
     "output_type": "display_data"
    },
    {
     "name": "stdout",
     "output_type": "stream",
     "text": [
      "Model's prediction: [6]\n",
      " Actual label: 6\n"
     ]
    },
    {
     "data": {
      "image/png": "[encoded data removed]",
      "text/plain": [
       "<Figure size 432x288 with 1 Axes>"
      ]
     },
     "metadata": {
      "needs_background": "light"
     },
     "output_type": "display_data"
    }
   ],
   "source": [
    "test_validation(5, first_weights, first_bias, second_weights, second_bias)\n",
    "test_validation(34, first_weights, first_bias, second_weights, second_bias)\n",
    "test_validation(56, first_weights, first_bias, second_weights, second_bias)\n",
    "test_validation(89, first_weights, first_bias, second_weights, second_bias)\n",
    "test_validation(101, first_weights, first_bias, second_weights, second_bias)\n",
    "test_validation(234, first_weights, first_bias, second_weights, second_bias)"
   ]
  },
  {
   "cell_type": "markdown",
   "id": "8ed1de28",
   "metadata": {},
   "source": [
    "Let's finally see the performance of this neural network on the testing chunk we set out prior."
   ]
  },
  {
   "cell_type": "code",
   "execution_count": 52,
   "id": "efecebe3",
   "metadata": {},
   "outputs": [
    {
     "name": "stdout",
     "output_type": "stream",
     "text": [
      "Accuracy on testing data: 84.2%\n"
     ]
    }
   ],
   "source": [
    "Validation = test(X_test, first_weights, first_bias, second_weights, second_bias)\n",
    "print(f\"Accuracy on testing data: {accuracy(Validation, Y_test) * 100}%\")"
   ]
  },
  {
   "cell_type": "markdown",
   "id": "8b9f3342",
   "metadata": {},
   "source": [
    "# Separate testing without labels.\n",
    "I downloaded this dataset from kaggle, so there's an entire dataset, set out for testing.<br>\n",
    "This dataset isn't labelled, it only has pixel values and it's left for the NN to figure <br>\n",
    "out which number each sample is. <br>\n",
    "__We will validate if the NN is doing well by plotting each sample it predicts__, _we have eyes_."
   ]
  },
  {
   "cell_type": "code",
   "execution_count": 59,
   "id": "46f75053",
   "metadata": {},
   "outputs": [
    {
     "data": {
      "text/html": [
       "<div>\n",
       "<style scoped>\n",
       "    .dataframe tbody tr th:only-of-type {\n",
       "        vertical-align: middle;\n",
       "    }\n",
       "\n",
       "    .dataframe tbody tr th {\n",
       "        vertical-align: top;\n",
       "    }\n",
       "\n",
       "    .dataframe thead th {\n",
       "        text-align: right;\n",
       "    }\n",
       "</style>\n",
       "<table border=\"1\" class=\"dataframe\">\n",
       "  <thead>\n",
       "    <tr style=\"text-align: right;\">\n",
       "      <th></th>\n",
       "      <th>pixel0</th>\n",
       "      <th>pixel1</th>\n",
       "      <th>pixel2</th>\n",
       "      <th>pixel3</th>\n",
       "      <th>pixel4</th>\n",
       "      <th>pixel5</th>\n",
       "      <th>pixel6</th>\n",
       "      <th>pixel7</th>\n",
       "      <th>pixel8</th>\n",
       "      <th>pixel9</th>\n",
       "      <th>...</th>\n",
       "      <th>pixel774</th>\n",
       "      <th>pixel775</th>\n",
       "      <th>pixel776</th>\n",
       "      <th>pixel777</th>\n",
       "      <th>pixel778</th>\n",
       "      <th>pixel779</th>\n",
       "      <th>pixel780</th>\n",
       "      <th>pixel781</th>\n",
       "      <th>pixel782</th>\n",
       "      <th>pixel783</th>\n",
       "    </tr>\n",
       "  </thead>\n",
       "  <tbody>\n",
       "    <tr>\n",
       "      <th>0</th>\n",
       "      <td>0</td>\n",
       "      <td>0</td>\n",
       "      <td>0</td>\n",
       "      <td>0</td>\n",
       "      <td>0</td>\n",
       "      <td>0</td>\n",
       "      <td>0</td>\n",
       "      <td>0</td>\n",
       "      <td>0</td>\n",
       "      <td>0</td>\n",
       "      <td>...</td>\n",
       "      <td>0</td>\n",
       "      <td>0</td>\n",
       "      <td>0</td>\n",
       "      <td>0</td>\n",
       "      <td>0</td>\n",
       "      <td>0</td>\n",
       "      <td>0</td>\n",
       "      <td>0</td>\n",
       "      <td>0</td>\n",
       "      <td>0</td>\n",
       "    </tr>\n",
       "    <tr>\n",
       "      <th>1</th>\n",
       "      <td>0</td>\n",
       "      <td>0</td>\n",
       "      <td>0</td>\n",
       "      <td>0</td>\n",
       "      <td>0</td>\n",
       "      <td>0</td>\n",
       "      <td>0</td>\n",
       "      <td>0</td>\n",
       "      <td>0</td>\n",
       "      <td>0</td>\n",
       "      <td>...</td>\n",
       "      <td>0</td>\n",
       "      <td>0</td>\n",
       "      <td>0</td>\n",
       "      <td>0</td>\n",
       "      <td>0</td>\n",
       "      <td>0</td>\n",
       "      <td>0</td>\n",
       "      <td>0</td>\n",
       "      <td>0</td>\n",
       "      <td>0</td>\n",
       "    </tr>\n",
       "    <tr>\n",
       "      <th>2</th>\n",
       "      <td>0</td>\n",
       "      <td>0</td>\n",
       "      <td>0</td>\n",
       "      <td>0</td>\n",
       "      <td>0</td>\n",
       "      <td>0</td>\n",
       "      <td>0</td>\n",
       "      <td>0</td>\n",
       "      <td>0</td>\n",
       "      <td>0</td>\n",
       "      <td>...</td>\n",
       "      <td>0</td>\n",
       "      <td>0</td>\n",
       "      <td>0</td>\n",
       "      <td>0</td>\n",
       "      <td>0</td>\n",
       "      <td>0</td>\n",
       "      <td>0</td>\n",
       "      <td>0</td>\n",
       "      <td>0</td>\n",
       "      <td>0</td>\n",
       "    </tr>\n",
       "    <tr>\n",
       "      <th>3</th>\n",
       "      <td>0</td>\n",
       "      <td>0</td>\n",
       "      <td>0</td>\n",
       "      <td>0</td>\n",
       "      <td>0</td>\n",
       "      <td>0</td>\n",
       "      <td>0</td>\n",
       "      <td>0</td>\n",
       "      <td>0</td>\n",
       "      <td>0</td>\n",
       "      <td>...</td>\n",
       "      <td>0</td>\n",
       "      <td>0</td>\n",
       "      <td>0</td>\n",
       "      <td>0</td>\n",
       "      <td>0</td>\n",
       "      <td>0</td>\n",
       "      <td>0</td>\n",
       "      <td>0</td>\n",
       "      <td>0</td>\n",
       "      <td>0</td>\n",
       "    </tr>\n",
       "    <tr>\n",
       "      <th>4</th>\n",
       "      <td>0</td>\n",
       "      <td>0</td>\n",
       "      <td>0</td>\n",
       "      <td>0</td>\n",
       "      <td>0</td>\n",
       "      <td>0</td>\n",
       "      <td>0</td>\n",
       "      <td>0</td>\n",
       "      <td>0</td>\n",
       "      <td>0</td>\n",
       "      <td>...</td>\n",
       "      <td>0</td>\n",
       "      <td>0</td>\n",
       "      <td>0</td>\n",
       "      <td>0</td>\n",
       "      <td>0</td>\n",
       "      <td>0</td>\n",
       "      <td>0</td>\n",
       "      <td>0</td>\n",
       "      <td>0</td>\n",
       "      <td>0</td>\n",
       "    </tr>\n",
       "  </tbody>\n",
       "</table>\n",
       "<p>5 rows × 784 columns</p>\n",
       "</div>"
      ],
      "text/plain": [
       "   pixel0  pixel1  pixel2  pixel3  pixel4  pixel5  pixel6  pixel7  pixel8  \\\n",
       "0       0       0       0       0       0       0       0       0       0   \n",
       "1       0       0       0       0       0       0       0       0       0   \n",
       "2       0       0       0       0       0       0       0       0       0   \n",
       "3       0       0       0       0       0       0       0       0       0   \n",
       "4       0       0       0       0       0       0       0       0       0   \n",
       "\n",
       "   pixel9  ...  pixel774  pixel775  pixel776  pixel777  pixel778  pixel779  \\\n",
       "0       0  ...         0         0         0         0         0         0   \n",
       "1       0  ...         0         0         0         0         0         0   \n",
       "2       0  ...         0         0         0         0         0         0   \n",
       "3       0  ...         0         0         0         0         0         0   \n",
       "4       0  ...         0         0         0         0         0         0   \n",
       "\n",
       "   pixel780  pixel781  pixel782  pixel783  \n",
       "0         0         0         0         0  \n",
       "1         0         0         0         0  \n",
       "2         0         0         0         0  \n",
       "3         0         0         0         0  \n",
       "4         0         0         0         0  \n",
       "\n",
       "[5 rows x 784 columns]"
      ]
     },
     "execution_count": 59,
     "metadata": {},
     "output_type": "execute_result"
    }
   ],
   "source": [
    "another_data = pd.read_csv(r\"C:\\Users\\ifunanyaScript\\Everything\\NN_maths_and_numpy\\test.csv\")\n",
    "another_data.head() "
   ]
  },
  {
   "cell_type": "markdown",
   "id": "8e1a6e30",
   "metadata": {},
   "source": [
    "Clearly there's no label for the samples. We are going in blindly."
   ]
  },
  {
   "cell_type": "code",
   "execution_count": 60,
   "id": "a01462a5",
   "metadata": {},
   "outputs": [
    {
     "data": {
      "text/plain": [
       "((28000, 784), (784, 28000))"
      ]
     },
     "execution_count": 60,
     "metadata": {},
     "output_type": "execute_result"
    }
   ],
   "source": [
    "# We load the data into a numpy array and transpose it.\n",
    "another_data = another_data.to_numpy()\n",
    "another_array = another_data.T\n",
    "another_data.shape, another_array.shape"
   ]
  },
  {
   "cell_type": "code",
   "execution_count": 62,
   "id": "91699f19",
   "metadata": {},
   "outputs": [
    {
     "data": {
      "text/plain": [
       "array([  0,   0,   0,   0,   0,   0,   0,   0,   0,   0,   0,   0,   0,\n",
       "         0,   0,   0,   0,   0,   0,   0,   0,   0,   0,   0,   0,   0,\n",
       "         0,   0,   0,   0,   0,   0,   0,   0,   0,   0,   0,   0,   0,\n",
       "         0,   0,   0,   0,   0,   0,   0,   0,   0,   0,   0,   0,   0,\n",
       "         0,   0,   0,   0,   0,   0,   0,   0,   0,   0,   0,   0,   0,\n",
       "         0,   0,   0,   0,   0,   0,   0,   0,   0,   0,   0,   0,   0,\n",
       "         0,   0,   0,   0,   0,   0,   0,   0,   0,   0,   0,   0,   0,\n",
       "         0,   0,   0,   0,   0,   0,   0,   0,   0,   0,   0,   0,   0,\n",
       "         0,   0,   0,   0,   0,   0,   0,   0,   0,   0,   0,   0,   0,\n",
       "         0,   0,   0,   0,   0,  10,  17,  17,  17,  17,  81, 180, 180,\n",
       "        35,   0,   0,   0,   0,   0,   0,   0,   0,   0,   0,   0,   0,\n",
       "         0,   0,   0,   0,   0,   0,   0, 139, 253, 253, 253, 253, 253,\n",
       "       253, 253,  48,   0,   0,   0,   0,   0,   0,   0,   0,   0,   0,\n",
       "         0,   0,   0,   0,   0,   0,   0,   0,  60, 228, 253, 253, 253,\n",
       "       253, 253, 253, 253, 207, 197,  46,   0,   0,   0,   0,   0,   0,\n",
       "         0,   0,   0,   0,   0,   0,   0,   0,   0,   0, 213, 253, 253,\n",
       "       253, 253, 253, 253, 253, 253, 253, 253, 223,  52,   0,   0,   0,\n",
       "         0,   0,   0,   0,   0,   0,   0,   0,   0,   0,   0,   0,  66,\n",
       "       231, 253, 253, 253, 108,  40,  40, 115, 244, 253, 253, 134,   3,\n",
       "         0,   0,   0,   0,   0,   0,   0,   0,   0,   0,   0,   0,   0,\n",
       "         0,   0,  63, 114, 114, 114,  37,   0,   0,   0, 205, 253, 253,\n",
       "       253,  15,   0,   0,   0,   0,   0,   0,   0,   0,   0,   0,   0,\n",
       "         0,   0,   0,   0,   0,   0,   0,   0,   0,   0,   0,   0,  57,\n",
       "       253, 253, 253,  15,   0,   0,   0,   0,   0,   0,   0,   0,   0,\n",
       "         0,   0,   0,   0,   0,   0,   0,   0,   0,   0,   0,   0,   0,\n",
       "         0,  42, 253, 253, 253,  15,   0,   0,   0,   0,   0,   0,   0,\n",
       "         0,   0,   0,   0,   0,   0,   0,   0,   0,   0,   0,   0,   0,\n",
       "         0,   0,   0,  95, 253, 253, 253,  15,   0,   0,   0,   0,   0,\n",
       "         0,   0,   0,   0,   0,   0,   0,   0,   0,   0,   0,   0,   0,\n",
       "         0,   0,   0,   0,   0, 205, 253, 253, 253,  15,   0,   0,   0,\n",
       "         0,   0,   0,   0,   0,   0,   0,   0,   0,   0,   0,   0,   0,\n",
       "         0,  61,  99,  96,   0,   0,  45, 224, 253, 253, 195,  10,   0,\n",
       "         0,   0,   0,   0,   0,   0,   0,   0,   0,   0,  11,  25, 105,\n",
       "        83, 189, 189, 228, 253, 251, 189, 189, 218, 253, 253, 210,  27,\n",
       "         0,   0,   0,   0,   0,   0,   0,   0,   0,   0,  42, 116, 173,\n",
       "       253, 253, 253, 253, 253, 253, 253, 253, 253, 253, 253, 253, 253,\n",
       "       221, 116,   7,   0,   0,   0,   0,   0,   0,   0,   0,   0, 118,\n",
       "       253, 253, 253, 253, 245, 212, 222, 253, 253, 253, 253, 253, 253,\n",
       "       253, 253, 253, 253, 160,  15,   0,   0,   0,   0,   0,   0,   0,\n",
       "         0, 254, 253, 253, 253, 189,  99,   0,  32, 202, 253, 253, 253,\n",
       "       240, 122, 122, 190, 253, 253, 253, 174,   0,   0,   0,   0,   0,\n",
       "         0,   0,   0, 255, 253, 253, 253, 238, 222, 222, 222, 241, 253,\n",
       "       253, 230,  70,   0,   0,  17, 175, 229, 253, 253,   0,   0,   0,\n",
       "         0,   0,   0,   0,   0, 158, 253, 253, 253, 253, 253, 253, 253,\n",
       "       253, 205, 106,  65,   0,   0,   0,   0,   0,  62, 244, 157,   0,\n",
       "         0,   0,   0,   0,   0,   0,   0,   6,  26, 179, 179, 179, 179,\n",
       "       179,  30,  15,  10,   0,   0,   0,   0,   0,   0,   0,   0,  14,\n",
       "         6,   0,   0,   0,   0,   0,   0,   0,   0,   0,   0,   0,   0,\n",
       "         0,   0,   0,   0,   0,   0,   0,   0,   0,   0,   0,   0,   0,\n",
       "         0,   0,   0,   0,   0,   0,   0,   0,   0,   0,   0,   0,   0,\n",
       "         0,   0,   0,   0,   0,   0,   0,   0,   0,   0,   0,   0,   0,\n",
       "         0,   0,   0,   0,   0,   0,   0,   0,   0,   0,   0,   0,   0,\n",
       "         0,   0,   0,   0,   0,   0,   0,   0,   0,   0,   0,   0,   0,\n",
       "         0,   0,   0,   0,   0,   0,   0,   0,   0,   0,   0,   0,   0,\n",
       "         0,   0,   0,   0,   0,   0,   0,   0,   0,   0,   0,   0,   0,\n",
       "         0,   0,   0,   0,   0,   0,   0,   0,   0,   0,   0,   0,   0,\n",
       "         0,   0,   0,   0,   0,   0,   0,   0,   0,   0,   0,   0,   0,\n",
       "         0,   0,   0,   0,   0,   0,   0,   0,   0,   0,   0,   0,   0,\n",
       "         0,   0,   0,   0,   0,   0,   0,   0,   0,   0,   0,   0,   0,\n",
       "         0,   0,   0,   0,   0,   0,   0,   0,   0,   0,   0,   0,   0,\n",
       "         0,   0,   0,   0], dtype=int64)"
      ]
     },
     "execution_count": 62,
     "metadata": {},
     "output_type": "execute_result"
    }
   ],
   "source": [
    "# Let's see a sample.\n",
    "another_array[:,0]"
   ]
  },
  {
   "cell_type": "code",
   "execution_count": 63,
   "id": "04e365af",
   "metadata": {},
   "outputs": [],
   "source": [
    "# This function predicts the number using the trained or optimised parameters(weights and biases).\n",
    "def predict_number(index, first_weights, first_bias, second_weights, second_bias):\n",
    "    the_sample = test_array[:, index, None]\n",
    "    pred = test(test_array[:, index, None], first_weights, first_bias, second_weights, second_bias)\n",
    "    print(f\"Model's prediction: {pred}\")\n",
    "    \n",
    "    the_sample = the_sample.reshape((28, 28)) * 255\n",
    "    plt.gray()\n",
    "    plt.imshow(the_sample, interpolation=\"nearest\")\n",
    "    plt.show()"
   ]
  },
  {
   "cell_type": "code",
   "execution_count": 68,
   "id": "972accb2",
   "metadata": {},
   "outputs": [
    {
     "name": "stdout",
     "output_type": "stream",
     "text": [
      "Model's prediction: [5]\n"
     ]
    },
    {
     "data": {
      "image/png": "[encoded data removed]",
      "text/plain": [
       "<Figure size 432x288 with 1 Axes>"
      ]
     },
     "metadata": {
      "needs_background": "light"
     },
     "output_type": "display_data"
    },
    {
     "name": "stdout",
     "output_type": "stream",
     "text": [
      "Model's prediction: [6]\n"
     ]
    },
    {
     "data": {
      "image/png": "[encoded data removed]",
      "text/plain": [
       "<Figure size 432x288 with 1 Axes>"
      ]
     },
     "metadata": {
      "needs_background": "light"
     },
     "output_type": "display_data"
    },
    {
     "name": "stdout",
     "output_type": "stream",
     "text": [
      "Model's prediction: [3]\n"
     ]
    },
    {
     "data": {
      "image/png": "[encoded data removed]",
      "text/plain": [
       "<Figure size 432x288 with 1 Axes>"
      ]
     },
     "metadata": {
      "needs_background": "light"
     },
     "output_type": "display_data"
    },
    {
     "name": "stdout",
     "output_type": "stream",
     "text": [
      "Model's prediction: [5]\n"
     ]
    },
    {
     "data": {
      "image/png": "[encoded data removed]",
      "text/plain": [
       "<Figure size 432x288 with 1 Axes>"
      ]
     },
     "metadata": {
      "needs_background": "light"
     },
     "output_type": "display_data"
    },
    {
     "name": "stdout",
     "output_type": "stream",
     "text": [
      "Model's prediction: [0]\n"
     ]
    },
    {
     "data": {
      "image/png": "[encoded data removed]",
      "text/plain": [
       "<Figure size 432x288 with 1 Axes>"
      ]
     },
     "metadata": {
      "needs_background": "light"
     },
     "output_type": "display_data"
    },
    {
     "name": "stdout",
     "output_type": "stream",
     "text": [
      "Model's prediction: [6]\n"
     ]
    },
    {
     "data": {
      "image/png": "[encoded data removed]",
      "text/plain": [
       "<Figure size 432x288 with 1 Axes>"
      ]
     },
     "metadata": {
      "needs_background": "light"
     },
     "output_type": "display_data"
    },
    {
     "name": "stdout",
     "output_type": "stream",
     "text": [
      "Model's prediction: [0]\n"
     ]
    },
    {
     "data": {
      "image/png": "[encoded data removed]",
      "text/plain": [
       "<Figure size 432x288 with 1 Axes>"
      ]
     },
     "metadata": {
      "needs_background": "light"
     },
     "output_type": "display_data"
    },
    {
     "name": "stdout",
     "output_type": "stream",
     "text": [
      "Model's prediction: [0]\n"
     ]
    },
    {
     "data": {
      "image/png": "[encoded data removed]",
      "text/plain": [
       "<Figure size 432x288 with 1 Axes>"
      ]
     },
     "metadata": {
      "needs_background": "light"
     },
     "output_type": "display_data"
    },
    {
     "name": "stdout",
     "output_type": "stream",
     "text": [
      "Model's prediction: [2]\n"
     ]
    },
    {
     "data": {
      "image/png": "[encoded data removed]",
      "text/plain": [
       "<Figure size 432x288 with 1 Axes>"
      ]
     },
     "metadata": {
      "needs_background": "light"
     },
     "output_type": "display_data"
    },
    {
     "name": "stdout",
     "output_type": "stream",
     "text": [
      "Model's prediction: [1]\n"
     ]
    },
    {
     "data": {
      "image/png": "[encoded data removed]",
      "text/plain": [
       "<Figure size 432x288 with 1 Axes>"
      ]
     },
     "metadata": {
      "needs_background": "light"
     },
     "output_type": "display_data"
    },
    {
     "name": "stdout",
     "output_type": "stream",
     "text": [
      "Model's prediction: [3]\n"
     ]
    },
    {
     "data": {
      "image/png": "[encoded data removed]",
      "text/plain": [
       "<Figure size 432x288 with 1 Axes>"
      ]
     },
     "metadata": {
      "needs_background": "light"
     },
     "output_type": "display_data"
    },
    {
     "name": "stdout",
     "output_type": "stream",
     "text": [
      "Model's prediction: [6]\n"
     ]
    },
    {
     "data": {
      "image/png": "[encoded data removed]",
      "text/plain": [
       "<Figure size 432x288 with 1 Axes>"
      ]
     },
     "metadata": {
      "needs_background": "light"
     },
     "output_type": "display_data"
    }
   ],
   "source": [
    "predict_number(23, first_weights, first_bias, second_weights, second_bias)\n",
    "predict_number(300, first_weights, first_bias, second_weights, second_bias)\n",
    "predict_number(15001, first_weights, first_bias, second_weights, second_bias)\n",
    "predict_number(789, first_weights, first_bias, second_weights, second_bias)\n",
    "predict_number(23456, first_weights, first_bias, second_weights, second_bias)\n",
    "predict_number(3400, first_weights, first_bias, second_weights, second_bias)\n",
    "predict_number(4309, first_weights, first_bias, second_weights, second_bias)\n",
    "predict_number(23787, first_weights, first_bias, second_weights, second_bias)\n",
    "predict_number(27999, first_weights, first_bias, second_weights, second_bias)\n",
    "predict_number(19040, first_weights, first_bias, second_weights, second_bias)\n",
    "predict_number(7802, first_weights, first_bias, second_weights, second_bias)\n",
    "predict_number(9019, first_weights, first_bias, second_weights, second_bias)"
   ]
  },
  {
   "cell_type": "markdown",
   "id": "a9898939",
   "metadata": {},
   "source": [
    "Voilà!!! From our eyes we can see our NN is very good.<br>\n",
    "It predicted all the samples we gave it, except the forth sample.<br>\n",
    "Personally, I am unsure about the forth one myself, so.<br>\n",
    "<br>\n",
    "I hope this notebook has enlightened you on a basic level of how neural networks function<br>\n",
    "under the hood. It's all a bunch of maths and more maths, but it's powerful and now you know too 😏😃."
   ]
  },
  {
   "cell_type": "code",
   "execution_count": null,
   "id": "91845ab3",
   "metadata": {},
   "outputs": [],
   "source": [
    "# ifunanyaScript"
   ]
  }
 ],
 "metadata": {
  "kernelspec": {
   "display_name": "Python 3 (ipykernel)",
   "language": "python",
   "name": "python3"
  },
  "language_info": {
   "codemirror_mode": {
    "name": "ipython",
    "version": 3
   },
   "file_extension": ".py",
   "mimetype": "text/x-python",
   "name": "python",
   "nbconvert_exporter": "python",
   "pygments_lexer": "ipython3",
   "version": "3.9.12"
  }
 },
 "nbformat": 4,
 "nbformat_minor": 5
}
